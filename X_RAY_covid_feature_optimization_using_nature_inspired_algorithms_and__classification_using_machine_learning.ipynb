{
  "cells": [
    {
      "cell_type": "markdown",
      "source": [
        "# importing useful libraries"
      ],
      "metadata": {
        "id": "bIi2epm-G7aU"
      }
    },
    {
      "cell_type": "code",
      "execution_count": null,
      "metadata": {
        "id": "Pft5jC6fRPRs"
      },
      "outputs": [],
      "source": [
        "!pip install zoofs"
      ]
    },
    {
      "cell_type": "code",
      "execution_count": null,
      "metadata": {
        "id": "A2Gn2VCgvTjl"
      },
      "outputs": [],
      "source": [
        "# Math & data\n",
        "import numpy as np\n",
        "import pandas as pd\n",
        "\n",
        "# Plotting\n",
        "import matplotlib.pyplot as plt\n",
        "%matplotlib inline\n",
        "# Image processing\n",
        "import cv2\n",
        "import skimage.feature as sk\n",
        "# Statistics\n",
        "from scipy import interp\n",
        "import skimage\n",
        "from skimage import img_as_ubyte\n",
        "# Machine learning\n",
        "from sklearn import preprocessing\n",
        "from sklearn import svm, datasets\n",
        "from sklearn.metrics import roc_curve, auc\n",
        "from sklearn.model_selection import StratifiedKFold, GridSearchCV\n",
        "# Misc\n",
        "import os\n",
        "import collections\n",
        "from itertools import cycle\n",
        "import glob\n",
        "from skimage.filters import threshold_otsu\n",
        "from skimage import io,exposure"
      ]
    },
    {
      "cell_type": "markdown",
      "source": [
        "# mounting google drive for data access and making required directories"
      ],
      "metadata": {
        "id": "GuCT7wNBHPHO"
      }
    },
    {
      "cell_type": "code",
      "execution_count": null,
      "metadata": {
        "id": "qvXisqAr0OYq"
      },
      "outputs": [],
      "source": [
        "from google.colab import drive\n",
        "drive.mount('/content/drive')"
      ]
    },
    {
      "cell_type": "code",
      "execution_count": null,
      "metadata": {
        "id": "s8gheAfTkR-D"
      },
      "outputs": [],
      "source": [
        "if not os.path.exists('/content/total_images'):\n",
        "  os.makedirs('/content/total_images')"
      ]
    },
    {
      "cell_type": "code",
      "execution_count": null,
      "metadata": {
        "id": "gRr5WCWVkWIq"
      },
      "outputs": [],
      "source": [
        "from zipfile import ZipFile          \n",
        "file_name = '/content/drive/MyDrive/Infection Segmentation Data.zip'\n",
        "with ZipFile(file_name,'r') as zipi:\n",
        "  zipi.extractall('/content/total_images')\n",
        "  print('Done')"
      ]
    },
    {
      "cell_type": "code",
      "execution_count": null,
      "metadata": {
        "id": "_IbvLxsTRHFh"
      },
      "outputs": [],
      "source": [
        "!rm -rf '/content/total_images/Infection Segmentation Data/Test'"
      ]
    },
    {
      "cell_type": "code",
      "execution_count": null,
      "metadata": {
        "id": "jhYSOdd65uSy"
      },
      "outputs": [],
      "source": [
        "!rm -rf '/content/total_images/Infection Segmentation Data/Val'"
      ]
    },
    {
      "cell_type": "code",
      "execution_count": null,
      "metadata": {
        "id": "W6-T7cATXw22"
      },
      "outputs": [],
      "source": [
        "!rm -rf '/content/total_images/Infection Segmentation Data/Train/Non-COVID'"
      ]
    },
    {
      "cell_type": "code",
      "execution_count": null,
      "metadata": {
        "id": "JCKd8ZX60_zD"
      },
      "outputs": [],
      "source": [
        "covid_images = []\n",
        "for directory_path in glob.glob('/content/total_images/Infection Segmentation Data/Train/COVID-19/images/*'):\n",
        "    img = cv2.imread(directory_path, cv2.IMREAD_GRAYSCALE)\n",
        "    covid_images.append(img)"
      ]
    },
    {
      "cell_type": "code",
      "execution_count": null,
      "metadata": {
        "id": "NUuuOgxoAQOk"
      },
      "outputs": [],
      "source": [
        "len(covid_images) "
      ]
    },
    {
      "cell_type": "code",
      "execution_count": null,
      "metadata": {
        "id": "lRL79pxn8mgb"
      },
      "outputs": [],
      "source": [
        "plt.imshow(covid_images[1],cmap = 'gray')"
      ]
    },
    {
      "cell_type": "code",
      "execution_count": null,
      "metadata": {
        "id": "_XMMOtXZ6tCx"
      },
      "outputs": [],
      "source": [
        "covid_masks = []\n",
        "for directory_path in glob.glob('/content/total_images/Infection Segmentation Data/Train/COVID-19/lung masks/*'):\n",
        "    img = cv2.imread(directory_path, cv2.IMREAD_GRAYSCALE)\n",
        "    covid_masks.append(img)"
      ]
    },
    {
      "cell_type": "code",
      "execution_count": null,
      "metadata": {
        "id": "aFtTnhD17Xns"
      },
      "outputs": [],
      "source": [
        "len(covid_masks)"
      ]
    },
    {
      "cell_type": "code",
      "execution_count": null,
      "metadata": {
        "id": "1w1K7EY86PDG"
      },
      "outputs": [],
      "source": [
        "normal_images = []\n",
        "for filename in glob.glob('/content/total_images/Infection Segmentation Data/Train/Normal/images/*.png'):\n",
        "  img = io.imread(filename)\n",
        "  normal_images.append(img)"
      ]
    },
    {
      "cell_type": "code",
      "execution_count": null,
      "metadata": {
        "id": "HXKDI6Ia6PO0"
      },
      "outputs": [],
      "source": [
        "len(normal_images)"
      ]
    },
    {
      "cell_type": "code",
      "execution_count": null,
      "metadata": {
        "id": "UYJataD_K1FF"
      },
      "outputs": [],
      "source": [
        "normal_mask = []\n",
        "for filename in glob.glob('/content/total_images/Infection Segmentation Data/Train/Normal/lung masks/*.png'):\n",
        "  img = io.imread(filename)\n",
        "  normal_mask.append(img)"
      ]
    },
    {
      "cell_type": "code",
      "execution_count": null,
      "metadata": {
        "id": "Rz01nWQr97wW"
      },
      "outputs": [],
      "source": [
        "covid_images_segmented = []\n",
        "for img1, img2 in zip(covid_images[0:200],covid_masks[0:200]):\n",
        "  img3 = img1.copy()\n",
        "  img3[img2==0]=0\n",
        "  covid_images_segmented.append(img3)"
      ]
    },
    {
      "cell_type": "code",
      "execution_count": null,
      "metadata": {
        "id": "MY24wuXL97zv"
      },
      "outputs": [],
      "source": [
        "plt.figure(figsize=(20,20))\n",
        "\n",
        "for i, image in enumerate(covid_images_segmented[0:100]):\n",
        "  plt.subplot(10,10,i+1)\n",
        "  plt.xticks([])\n",
        "  plt.yticks([])\n",
        "  plt.grid(False)\n",
        "  plt.imshow(image, cmap = 'gray')\n",
        "  \n",
        "plt.suptitle(\"Image\", fontsize=20)\n",
        "plt.show()"
      ]
    },
    {
      "cell_type": "code",
      "execution_count": null,
      "metadata": {
        "id": "DZXdQUju9728"
      },
      "outputs": [],
      "source": [
        "normal_images_segmented = []\n",
        "for img1, img2 in zip(normal_images[0:200],normal_mask[0:200]):\n",
        "  img3 = img1.copy()\n",
        "  img3[img2==0]=0\n",
        "  normal_images_segmented.append(img3)"
      ]
    },
    {
      "cell_type": "code",
      "execution_count": null,
      "metadata": {
        "id": "BdjCMNrJ975y"
      },
      "outputs": [],
      "source": [
        "plt.figure(figsize=(20,20))\n",
        "\n",
        "for i, image in enumerate(normal_images_segmented[0:100]):\n",
        "  plt.subplot(10,10,i+1)\n",
        "  plt.xticks([])\n",
        "  plt.yticks([])\n",
        "  plt.grid(False)\n",
        "  plt.imshow(image, cmap = 'gray')\n",
        "  \n",
        "plt.suptitle(\"Image\", fontsize=20)\n",
        "plt.show()"
      ]
    },
    {
      "cell_type": "code",
      "execution_count": null,
      "metadata": {
        "id": "_3eNGk2aP4i4"
      },
      "outputs": [],
      "source": [
        "DR = '/content/all_images'\n",
        "if not os.path.exists(DR):\n",
        "    os.mkdir(DR)"
      ]
    },
    {
      "cell_type": "code",
      "execution_count": null,
      "metadata": {
        "id": "V-5Xcn9vBgOh"
      },
      "outputs": [],
      "source": [
        "import imageio\n",
        "import skimage\n",
        "from skimage import img_as_ubyte\n",
        "Dr = '/content/all_images/covid'\n",
        "if not os.path.exists(Dr):\n",
        "    os.mkdir(Dr)\n",
        "for index, value in enumerate(covid_images_segmented):\n",
        "  value = img_as_ubyte(value)\n",
        "  imageio.imwrite(f'/content/all_images/covid/image_{index}.png', np.array(value))\n",
        "print('done')\n",
        "    #print(index)"
      ]
    },
    {
      "cell_type": "code",
      "execution_count": null,
      "metadata": {
        "id": "NuUXcBB2Qo5V"
      },
      "outputs": [],
      "source": [
        "import imageio\n",
        "import skimage\n",
        "from skimage import img_as_ubyte\n",
        "Dr = '/content/all_images/normal'\n",
        "if not os.path.exists(Dr):\n",
        "    os.mkdir(Dr)\n",
        "for index, value in enumerate(normal_images_segmented):\n",
        "  value = img_as_ubyte(value)\n",
        "  imageio.imwrite(f'/content/all_images/normal/image_{index}.png', np.array(value))\n",
        "print('done')\n",
        "    #print(index)"
      ]
    },
    {
      "cell_type": "code",
      "execution_count": null,
      "metadata": {
        "id": "kM9llcLiwaA7"
      },
      "outputs": [],
      "source": [
        "images = []\n",
        "labels = []\n",
        "#for directory_path in glob.glob(\"cell_images/test/*\"): \n",
        "for directory_path in glob.glob('/content/all_images/*/*'):\n",
        "    label = directory_path.split(\"/\")[-2]\n",
        "    #for img_path in glob.glob(os.path.join('/content/ML_lung_data/', '*/*.png')):\n",
        "    img = io.imread(directory_path)\n",
        "    img = cv2.resize(img, (256, 256))\n",
        "    img = skimage.exposure.equalize_adapthist(img)\n",
        "    #img =skimage.filters.farid(img)\n",
        "    images.append(img_as_ubyte(img))\n",
        "    labels.append(label)\n",
        "      \n",
        "images = np.array(images)\n",
        "labels = np.array(labels)"
      ]
    },
    {
      "cell_type": "code",
      "execution_count": null,
      "metadata": {
        "id": "99Gu_5WwP1SU"
      },
      "outputs": [],
      "source": [
        "images1 = []\n",
        "labels1 = [] \n",
        "for directory_path in glob.glob('/content/all_images/*/*'):\n",
        "    label1 = directory_path.split(\"/\")[-2]\n",
        "    img1 = io.imread(directory_path)\n",
        "    img1 = cv2.resize(img1, (256, 256))\n",
        "    images1.append(img_as_ubyte(img1))\n",
        "    labels1.append(label1)\n",
        "      \n",
        "images1 = np.array(images1)\n",
        "labels1 = np.array(labels1)"
      ]
    },
    {
      "cell_type": "code",
      "execution_count": null,
      "metadata": {
        "id": "l-63ox1oR2Sr"
      },
      "outputs": [],
      "source": [
        "images1[1].shape,len(images1)"
      ]
    },
    {
      "cell_type": "code",
      "execution_count": null,
      "metadata": {
        "id": "z309GMbECq_f"
      },
      "outputs": [],
      "source": [
        "labels[30:40]"
      ]
    },
    {
      "cell_type": "code",
      "execution_count": null,
      "metadata": {
        "id": "VB0z5-Gc9EdW"
      },
      "outputs": [],
      "source": [
        "len(images) "
      ]
    },
    {
      "cell_type": "code",
      "execution_count": null,
      "metadata": {
        "id": "JLd932GoDX58"
      },
      "outputs": [],
      "source": [
        "segmented_img = []\n",
        "for img in images1:\n",
        "    img = cv2.resize(img, (256, 256))\n",
        "    segmented_img.append(img)"
      ]
    },
    {
      "cell_type": "code",
      "execution_count": null,
      "metadata": {
        "id": "dUUS9L6180oS"
      },
      "outputs": [],
      "source": [
        "segmented_img[1].dtype"
      ]
    },
    {
      "cell_type": "markdown",
      "source": [
        "# viewing the images and masks"
      ],
      "metadata": {
        "id": "QJc0Udz8Hh4B"
      }
    },
    {
      "cell_type": "code",
      "execution_count": null,
      "metadata": {
        "id": "qvz6Ia_gEJd-"
      },
      "outputs": [],
      "source": [
        "plt.figure(figsize=(20,20))\n",
        "\n",
        "for i, image in enumerate(images[0:100]):\n",
        "  plt.subplot(10,10,i+1)\n",
        "  plt.xticks([])\n",
        "  plt.yticks([])\n",
        "  plt.grid(False)\n",
        "  plt.imshow(image, cmap = 'gray')\n",
        "  \n",
        "plt.suptitle(\"Image\", fontsize=20)\n",
        "plt.show()"
      ]
    },
    {
      "cell_type": "code",
      "execution_count": null,
      "metadata": {
        "id": "vJxi3SiZCtxG"
      },
      "outputs": [],
      "source": [
        "from skimage import exposure,img_as_ubyte\n",
        "images_mask = []\n",
        "for img in segmented_img:\n",
        "  image =exposure.equalize_adapthist(img)\n",
        "  image = skimage.filters.threshold_otsu(image)\n",
        "  imag = img>image\n",
        "  images_mask.append(imag)"
      ]
    },
    {
      "cell_type": "code",
      "execution_count": null,
      "metadata": {
        "id": "Z69XGVQADJJu"
      },
      "outputs": [],
      "source": [
        "plt.figure(figsize=(20,20))\n",
        "\n",
        "for i, image in enumerate(images_mask[0:100]):\n",
        "  plt.subplot(10,10,i+1)\n",
        "  plt.xticks([])\n",
        "  plt.yticks([])\n",
        "  plt.grid(False)\n",
        "  plt.imshow(image, cmap = 'gray')\n",
        "  \n",
        "plt.suptitle(\"Image\", fontsize=20)\n",
        "plt.show()"
      ]
    },
    {
      "cell_type": "markdown",
      "source": [
        "# encoding the labels"
      ],
      "metadata": {
        "id": "4qaylt8UHoNe"
      }
    },
    {
      "cell_type": "code",
      "execution_count": null,
      "metadata": {
        "id": "dKN4q8bb5EVF"
      },
      "outputs": [],
      "source": [
        "from sklearn import preprocessing\n",
        "le = preprocessing.LabelEncoder()\n",
        "le.fit(labels)\n",
        "train_labels_encoded = le.transform(labels)\n",
        "train_labels_encoded"
      ]
    },
    {
      "cell_type": "markdown",
      "source": [
        "# feature extraction "
      ],
      "metadata": {
        "id": "2O7aZVG1HuAw"
      }
    },
    {
      "cell_type": "code",
      "execution_count": null,
      "metadata": {
        "id": "1JRnjRK4nZy_"
      },
      "outputs": [],
      "source": [
        "!pip install pyfeats"
      ]
    },
    {
      "cell_type": "markdown",
      "metadata": {
        "id": "2GcjPi1twwcz"
      },
      "source": []
    },
    {
      "cell_type": "code",
      "execution_count": null,
      "metadata": {
        "id": "dEcuN_G2nZ07"
      },
      "outputs": [],
      "source": [
        "import pyfeats\n",
        "from pyfeats import textural, multiscale,other"
      ]
    },
    {
      "cell_type": "markdown",
      "metadata": {
        "id": "0KsdPWlM3ndr"
      },
      "source": [
        "# TEXTURE FEATURES"
      ]
    },
    {
      "cell_type": "markdown",
      "metadata": {
        "id": "VYJ6U0yDwsqO"
      },
      "source": [
        "**1.FIRST_ODER_STATISTICAL_FEATURES**"
      ]
    },
    {
      "cell_type": "code",
      "execution_count": null,
      "metadata": {
        "id": "EZOFtyu463K5"
      },
      "outputs": [],
      "source": [
        "labels_FOS = [\"FOS_Mean\",\"FOS_Variance\",\"FOS_Median\",\"FOS_Mode\",\"FOS_Skewness\",\n",
        "              \"FOS_Kurtosis\",\"FOS_Energy\",\"FOS_Entropy\",\"FOS_MinimalGrayLevel\",\n",
        "              \"FOS_MaximalGrayLevel\",\"FOS_CoefficientOfVariation\",\n",
        "              \"FOS_10Percentile\",\"FOS_25Percentile\",\"FOS_75Percentile\",\n",
        "              \"FOS_90Percentile\",\"FOS_HistogramWidth\"]\n",
        "first_order_statistical = []  #fos\n",
        "for image, mask in zip(images,images_mask):\n",
        "  features,label = textural.fos(image,mask)\n",
        "  first_order_statistical.append(features)\n",
        "\n"
      ]
    },
    {
      "cell_type": "code",
      "execution_count": null,
      "metadata": {
        "id": "K0cd1H6av3_P"
      },
      "outputs": [],
      "source": [
        "df_first_order_stats = pd.DataFrame(first_order_statistical,columns = [\"FOS_Mean\",\"FOS_Variance\",\"FOS_Median\",\"FOS_Mode\",\"FOS_Skewness\",\n",
        "              \"FOS_Kurtosis\",\"FOS_Energy\",\"FOS_Entropy\",\"FOS_MinimalGrayLevel\",\n",
        "              \"FOS_MaximalGrayLevel\",\"FOS_CoefficientOfVariation\",\n",
        "              \"FOS_10Percentile\",\"FOS_25Percentile\",\"FOS_75Percentile\",\n",
        "              \"FOS_90Percentile\",\"FOS_HistogramWidth\"])\n",
        "df_first_order_stats"
      ]
    },
    {
      "cell_type": "code",
      "execution_count": null,
      "metadata": {
        "id": "n8o6x4eXKhH2"
      },
      "outputs": [],
      "source": [
        "df_first_order_stats.to_csv('df_first_order_stats')"
      ]
    },
    {
      "cell_type": "markdown",
      "metadata": {
        "id": "rvDTX7z9zGOo"
      },
      "source": [
        "**2.GLCM_FEATURES**"
      ]
    },
    {
      "cell_type": "code",
      "execution_count": null,
      "metadata": {
        "id": "gIE9Waiew0qH"
      },
      "outputs": [],
      "source": [
        "glcm_labels = [\"GLCM_ASM\", \"GLCM_Contrast\", \"GLCM_Correlation\",\n",
        "              \"GLCM_SumOfSquaresVariance\", \"GLCM_InverseDifferenceMoment\",\n",
        "               \"GLCM_SumAverage\", \"GLCM_SumVariance\", \"GLCM_SumEntropy\",\n",
        "               \"GLCM_Entropy\", \"GLCM_DifferenceVariance\",\n",
        "               \"GLCM_DifferenceEntropy\", \"GLCM_Information1\",\n",
        "               \"GLCM_Information2\", \"GLCM_MaximalCorrelationCoefficient\"]\n",
        "\n",
        "GLCM = []  #fos\n",
        "for image in images:\n",
        "  image = img_as_ubyte(image)\n",
        "  features,label,feat_mean,mean_label = textural.glcm_features(image,ignore_zeros= True)\n",
        "  GLCM.append(features)"
      ]
    },
    {
      "cell_type": "code",
      "execution_count": null,
      "metadata": {
        "id": "rw6-NquXw0se"
      },
      "outputs": [],
      "source": [
        "df_GLCM = pd.DataFrame(GLCM,columns =[\"GLCM_ASM\", \"GLCM_Contrast\", \"GLCM_Correlation\",\n",
        "              \"GLCM_SumOfSquaresVariance\", \"GLCM_InverseDifferenceMoment\",\n",
        "               \"GLCM_SumAverage\", \"GLCM_SumVariance\", \"GLCM_SumEntropy\",\n",
        "               \"GLCM_Entropy\", \"GLCM_DifferenceVariance\",\n",
        "               \"GLCM_DifferenceEntropy\", \"GLCM_Information1\",\n",
        "               \"GLCM_Information2\", \"GLCM_MaximalCorrelationCoefficient\"])\n",
        "df_GLCM"
      ]
    },
    {
      "cell_type": "code",
      "execution_count": null,
      "metadata": {
        "id": "3KiYQKE5Kta3"
      },
      "outputs": [],
      "source": [
        "df_GLCM.to_csv('df_GLCM')"
      ]
    },
    {
      "cell_type": "markdown",
      "metadata": {
        "id": "2Txfdun3zXZH"
      },
      "source": [
        "**3.Law's Texture Energy Measures (LTE/TEM)**"
      ]
    },
    {
      "cell_type": "code",
      "execution_count": null,
      "metadata": {
        "id": "tW23_noLw0vU"
      },
      "outputs": [],
      "source": [
        "labels_LTE =['LTE_LL_7', 'LTE_EE_7', 'LTE_SS_7', 'LTE_LE_7', 'LTE_ES_7', 'LTE_LS_7']  ##lte_measures(f, mask, l=7) default l=7\n",
        "LTE = []  #fos\n",
        "for image, mask in zip(images,images_mask):\n",
        "  #image = img_as_ubyte(exposure.equalize_adapthist(image,clip_limit = 0.01))\n",
        "  features,label = textural.lte_measures(image,mask)\n",
        "  LTE.append(features)"
      ]
    },
    {
      "cell_type": "code",
      "execution_count": null,
      "metadata": {
        "id": "HY_UNUl0w0yn"
      },
      "outputs": [],
      "source": [
        "df_LTE = pd.DataFrame(LTE, columns = ['LTE_LL_7', 'LTE_EE_7', 'LTE_SS_7', 'LTE_LE_7', 'LTE_ES_7', 'LTE_LS_7'])\n",
        "df_LTE"
      ]
    },
    {
      "cell_type": "code",
      "execution_count": null,
      "metadata": {
        "id": "_prHrP0cK5S3"
      },
      "outputs": [],
      "source": [
        "df_LTE.to_csv('df_LTE')"
      ]
    },
    {
      "cell_type": "markdown",
      "metadata": {
        "id": "G526urah1MSs"
      },
      "source": [
        "**4.Gray-Level-Run-Length-Matrix**"
      ]
    },
    {
      "cell_type": "code",
      "execution_count": null,
      "metadata": {
        "id": "yhDGFCDy0_8v"
      },
      "outputs": [],
      "source": [
        "labels_GLRLM = [\"GLRLM_ShortRunEmphasis\",\n",
        "              \"GLRLM_LongRunEmphasis\",\n",
        "              \"GLRLM_GrayLevelNo-Uniformity\",\n",
        "              \"GLRLM_RunLengthNonUniformity\",\n",
        "              \"GLRLM_RunPercentage\",\n",
        "              \"GLRLM_LowGrayLevelRunEmphasis\",\n",
        "              \"GLRLM_HighGrayLevelRunEmphasis\",\n",
        "              \"GLRLM_Short owGrayLevelEmphasis\",\n",
        "              \"GLRLM_ShortRunHighGrayLevelEmphasis\",\n",
        "              \"GLRLM_LongRunLowGrayLevelEmphasis\",\n",
        "              \"GLRLM_LongRunHighGrayLevelEmphasis\"]\n",
        "GLRLM = []  #fos\n",
        "for image, mask in zip(images,images_mask):\n",
        "  #image = img_as_ubyte(exposure.equalize_adapthist(image,clip_limit = 0.01))\n",
        "  features,label = textural.glrlm_features(image,mask)\n",
        "  GLRLM.append(features)"
      ]
    },
    {
      "cell_type": "code",
      "execution_count": null,
      "metadata": {
        "id": "nAYYldY80__a"
      },
      "outputs": [],
      "source": [
        "df_GLRLM = pd.DataFrame(GLRLM, columns = [\"GLRLM_ShortRunEmphasis\",\n",
        "              \"GLRLM_LongRunEmphasis\",\n",
        "              \"GLRLM_GrayLevelNo-Uniformity\",\n",
        "              \"GLRLM_RunLengthNonUniformity\",\n",
        "              \"GLRLM_RunPercentage\",\n",
        "              \"GLRLM_LowGrayLevelRunEmphasis\",\n",
        "              \"GLRLM_HighGrayLevelRunEmphasis\",\n",
        "              \"GLRLM_Short owGrayLevelEmphasis\",\n",
        "              \"GLRLM_ShortRunHighGrayLevelEmphasis\",\n",
        "              \"GLRLM_LongRunLowGrayLevelEmphasis\",\n",
        "              \"GLRLM_LongRunHighGrayLevelEmphasis\"])\n",
        "df_GLRLM"
      ]
    },
    {
      "cell_type": "code",
      "execution_count": null,
      "metadata": {
        "id": "aWrZHqreK9ao"
      },
      "outputs": [],
      "source": [
        "df_GLRLM.to_csv('df_GLRLM')"
      ]
    },
    {
      "cell_type": "markdown",
      "metadata": {
        "id": "mDa3ZA-x2mKR"
      },
      "source": [
        "**5.LBP**"
      ]
    },
    {
      "cell_type": "code",
      "execution_count": null,
      "metadata": {
        "id": "ipwmN5G-1ACJ"
      },
      "outputs": [],
      "source": [
        "labels_LBP = ['LBP_R_1_P_8_energy',\n",
        " 'LBP_R_1_P_8_entropy',\n",
        " 'LBP_R_2_P_16_energy',\n",
        " 'LBP_R_2_P_16_entropy',\n",
        " 'LBP_R_3_P_24_energy',\n",
        " 'LBP_R_3_P_24_entropy']\n",
        "LBP = []  \n",
        "for image, mask in zip(images,images_mask):\n",
        "  features,label = textural.lbp_features(image,mask,P=[4,8,16,24],R=[1,2,3,4])\n",
        "  LBP.append(features)"
      ]
    },
    {
      "cell_type": "code",
      "execution_count": null,
      "metadata": {
        "id": "R-byqYlQ1AEg"
      },
      "outputs": [],
      "source": [
        "df_LBP = pd.DataFrame(LBP, columns = ['LBP_R_1_P_4_energy','LBP_R_1_P_4_entropy','LBP_R_2_P_8_energy',\n",
        " 'LBP_R_2_P_8_entropy',\n",
        " 'LBP_R_3_P_16_energy',\n",
        " 'LBP_R_3_P_16_entropy',\n",
        " 'LBP_R_4_P_24_energy',\n",
        " 'LBP_R_4_P_24_entropy'])\n",
        "df_LBP"
      ]
    },
    {
      "cell_type": "code",
      "execution_count": null,
      "metadata": {
        "id": "g0CizoAkLBGf"
      },
      "outputs": [],
      "source": [
        "df_LBP.to_csv('df_LBP')"
      ]
    },
    {
      "cell_type": "markdown",
      "metadata": {
        "id": "fYFaN7K434mu"
      },
      "source": [
        "# MULTISCALE FEATURES"
      ]
    },
    {
      "cell_type": "markdown",
      "metadata": {
        "id": "5RyJmYBI6Qp8"
      },
      "source": [
        "**2. DWT**"
      ]
    },
    {
      "cell_type": "code",
      "source": [
        "labels_dwt = ['DWT_bior3.3_level_1_da_mean',\n",
        " 'DWT_bior3.3_level_1_da_std',\n",
        " 'DWT_bior3.3_level_1_dd_mean',\n",
        " 'DWT_bior3.3_level_1_dd_std',\n",
        " 'DWT_bior3.3_level_1_ad_mean',\n",
        " 'DWT_bior3.3_level_1_ad_std',\n",
        " 'DWT_bior3.3_level_2_da_mean',\n",
        " 'DWT_bior3.3_level_2_da_std',\n",
        " 'DWT_bior3.3_level_2_dd_mean',\n",
        " 'DWT_bior3.3_level_2_dd_std',\n",
        " 'DWT_bior3.3_level_2_ad_mean',\n",
        " 'DWT_bior3.3_level_2_ad_std',\n",
        " 'DWT_bior3.3_level_3_da_mean',\n",
        " 'DWT_bior3.3_level_3_da_std',\n",
        " 'DWT_bior3.3_level_3_dd_mean',\n",
        " 'DWT_bior3.3_level_3_dd_std',\n",
        " 'DWT_bior3.3_level_3_ad_mean',\n",
        " 'DWT_bior3.3_level_3_ad_std']\n",
        "DWT = []  #fos\n",
        "for image, mask in zip(images,images_mask):\n",
        "  features,label = multiscale.dwt_features(image,mask)\n",
        "  DWT.append(features)"
      ],
      "metadata": {
        "id": "bSnDnewb5DgK"
      },
      "execution_count": null,
      "outputs": []
    },
    {
      "cell_type": "code",
      "source": [
        "df_DWT = pd.DataFrame(DWT,columns = ['DWT_bior3.3_level_1_da_mean',\n",
        " 'DWT_bior3.3_level_1_da_std',\n",
        " 'DWT_bior3.3_level_1_dd_mean',\n",
        " 'DWT_bior3.3_level_1_dd_std',\n",
        " 'DWT_bior3.3_level_1_ad_mean',\n",
        " 'DWT_bior3.3_level_1_ad_std',\n",
        " 'DWT_bior3.3_level_2_da_mean',\n",
        " 'DWT_bior3.3_level_2_da_std',\n",
        " 'DWT_bior3.3_level_2_dd_mean',\n",
        " 'DWT_bior3.3_level_2_dd_std',\n",
        " 'DWT_bior3.3_level_2_ad_mean',\n",
        " 'DWT_bior3.3_level_2_ad_std',\n",
        " 'DWT_bior3.3_level_3_da_mean',\n",
        " 'DWT_bior3.3_level_3_da_std',\n",
        " 'DWT_bior3.3_level_3_dd_mean',\n",
        " 'DWT_bior3.3_level_3_dd_std',\n",
        " 'DWT_bior3.3_level_3_ad_mean',\n",
        " 'DWT_bior3.3_level_3_ad_std'])\n",
        "df_DWT"
      ],
      "metadata": {
        "id": "1d-emRKC6PZy"
      },
      "execution_count": null,
      "outputs": []
    },
    {
      "cell_type": "code",
      "source": [
        "df_DWT.to_csv('df_DWT')"
      ],
      "metadata": {
        "id": "XGyRmE1wLNVd"
      },
      "execution_count": null,
      "outputs": []
    },
    {
      "cell_type": "markdown",
      "source": [
        "# zernikes moment"
      ],
      "metadata": {
        "id": "hrQ9if9RH9QG"
      }
    },
    {
      "cell_type": "code",
      "execution_count": null,
      "metadata": {
        "id": "NADYdn5wRq1q"
      },
      "outputs": [],
      "source": [
        "labels_zenikes = ['zenikes_0','zenikes_1','zenikes_2','zenikes_3','zenikes_4','zenikes_5','zenikes_6','zenikes_7','zenikes_8','zenikes_9','zenikes_10','zenikes_11','zenikes_12','zenikes_13',\n",
        "                  'zenikes_14','zenikes_15','zenikes_16','zenikes_17','zenikes_18','zenikes_19','zenikes_20','zenikes_21','zenikes_22','zenikes_23','zenikes_24']\n",
        "zernikes = []  #fos\n",
        "for image, mask in zip(images,images_mask):\n",
        "  features, labels = pyfeats.other.zernikes_moments(image,radius = 9)\n",
        "  zernikes.append(features)\n",
        "\n",
        "\n",
        "\n"
      ]
    },
    {
      "cell_type": "code",
      "source": [
        "labels_zenikes = ['zenikes_0','zenikes_1','zenikes_2','zenikes_3','zenikes_4','zenikes_5','zenikes_6','zenikes_7','zenikes_8','zenikes_9','zenikes_10','zenikes_11','zenikes_12','zenikes_13',\n",
        "                  'zenikes_14','zenikes_15','zenikes_16','zenikes_17','zenikes_18','zenikes_19','zenikes_20','zenikes_21','zenikes_22','zenikes_23','zenikes_24']\n",
        "df_zernikes = pd.DataFrame(zernikes,columns = labels_zenikes)\n",
        "df_zernikes"
      ],
      "metadata": {
        "id": "8fTYnXKZD23w"
      },
      "execution_count": null,
      "outputs": []
    },
    {
      "cell_type": "code",
      "source": [
        "df_zernikes.to_csv('df_zernikes')"
      ],
      "metadata": {
        "id": "eepn_UdZK-yE"
      },
      "execution_count": null,
      "outputs": []
    },
    {
      "cell_type": "code",
      "source": [],
      "metadata": {
        "id": "est54HzED3Iw"
      },
      "execution_count": null,
      "outputs": []
    },
    {
      "cell_type": "markdown",
      "source": [
        "# checking all csv files containing features"
      ],
      "metadata": {
        "id": "sv450neeIE5r"
      }
    },
    {
      "cell_type": "code",
      "execution_count": null,
      "metadata": {
        "id": "_XY3XfhIhI9E"
      },
      "outputs": [],
      "source": [
        "df_fos = pd.read_csv('/content/df_first_order_stats')\n",
        "df_LTE = pd.read_csv('/content/df_LTE')\n",
        "df_LBP = pd.read_csv('/content/df_LBP')\n",
        "df_GLCM = pd.read_csv('/content/df_GLCM')\n",
        "df_GLRLM = pd.read_csv('/content/df_GLRLM')\n",
        "df_DWT = pd.read_csv('/content/df_DWT')\n",
        "df_zernikes = pd.read_csv('/content/df_zernikes') \n"
      ]
    },
    {
      "cell_type": "markdown",
      "source": [
        "# concatenating the features to make a single dataframe"
      ],
      "metadata": {
        "id": "dL2Y13uoIK5E"
      }
    },
    {
      "cell_type": "code",
      "execution_count": null,
      "metadata": {
        "id": "M6HuJpVBiMiH"
      },
      "outputs": [],
      "source": [
        "df = pd.concat([df_fos.reset_index(drop=True),df_GLCM.reset_index(drop=True),\n",
        "          df_GLRLM.reset_index(drop=True),df_zernikes.reset_index(drop=True),df_LBP.reset_index(drop = True),df_LTE.reset_index(drop = True),df_DWT.reset_index(drop = True)],axis = 1,join = 'inner')\n",
        "df.drop(['Unnamed: 0'],axis = 1,inplace=True)\n",
        "df"
      ]
    },
    {
      "cell_type": "code",
      "source": [
        "df.loc[:, df.isnull().any()].columns"
      ],
      "metadata": {
        "id": "9FH4sv-OLpcU"
      },
      "execution_count": null,
      "outputs": []
    },
    {
      "cell_type": "code",
      "execution_count": null,
      "metadata": {
        "id": "Qk8XI6-LiGA_"
      },
      "outputs": [],
      "source": [
        "df.columns"
      ]
    },
    {
      "cell_type": "markdown",
      "source": [
        "# scaling the features and splitting into train test part"
      ],
      "metadata": {
        "id": "MNU0h9TrIT--"
      }
    },
    {
      "cell_type": "code",
      "execution_count": null,
      "metadata": {
        "id": "7QT3bIaewIWQ"
      },
      "outputs": [],
      "source": [
        "from sklearn.preprocessing import MinMaxScaler,StandardScaler\n",
        "scaler = StandardScaler()\n",
        "data_rescaled = scaler.fit_transform(df)"
      ]
    },
    {
      "cell_type": "code",
      "execution_count": null,
      "metadata": {
        "id": "qjaOEbSWhJCI"
      },
      "outputs": [],
      "source": [
        "from sklearn.model_selection import train_test_split\n",
        "X_train, X_test, y_train,y_test = train_test_split(reduced,train_labels_encoded, test_size=0.2, random_state=0)"
      ]
    },
    {
      "cell_type": "code",
      "execution_count": null,
      "metadata": {
        "id": "RfLpGX0WtVV9"
      },
      "outputs": [],
      "source": [
        "len(X_train),len(X_test),len(y_train),len(y_test)"
      ]
    },
    {
      "cell_type": "code",
      "source": [],
      "metadata": {
        "id": "5xlyWj6dIbqU"
      },
      "execution_count": null,
      "outputs": []
    },
    {
      "cell_type": "markdown",
      "source": [
        "# classification without feature optimization to get the best hyperparameters "
      ],
      "metadata": {
        "id": "wAWqpqSZIc-w"
      }
    },
    {
      "cell_type": "markdown",
      "source": [
        "# random forest classifier"
      ],
      "metadata": {
        "id": "aOCrvR13Im5m"
      }
    },
    {
      "cell_type": "code",
      "execution_count": null,
      "metadata": {
        "id": "mfdoOwFFhJEQ"
      },
      "outputs": [],
      "source": [
        "from sklearn.ensemble import RandomForestClassifier\n"
      ]
    },
    {
      "cell_type": "code",
      "execution_count": null,
      "metadata": {
        "id": "kUrZ_knGhJHs"
      },
      "outputs": [],
      "source": [
        "rfc = RandomForestClassifier(random_state = 1)"
      ]
    },
    {
      "cell_type": "code",
      "execution_count": null,
      "metadata": {
        "id": "S4XmQo__jr2N"
      },
      "outputs": [],
      "source": [
        "rfc.fit(X_train, y_train.ravel())\n",
        "predictions = rfc.predict(X_test)"
      ]
    },
    {
      "cell_type": "code",
      "execution_count": null,
      "metadata": {
        "id": "IkEpTlQ5jr80"
      },
      "outputs": [],
      "source": [
        "from sklearn.metrics import classification_report,confusion_matrix\n",
        "print(classification_report(y_test,predictions))"
      ]
    },
    {
      "cell_type": "code",
      "execution_count": null,
      "metadata": {
        "id": "j1apTiCv4rJ6"
      },
      "outputs": [],
      "source": [
        "from sklearn.model_selection import GridSearchCV\n",
        "from sklearn.model_selection import StratifiedKFold, KFold\n",
        "kfold =KFold(n_splits=5)"
      ]
    },
    {
      "cell_type": "code",
      "execution_count": null,
      "metadata": {
        "id": "v6tZ40344rW6"
      },
      "outputs": [],
      "source": [
        "param_grid = {'n_estimators':[20,30,40,50,60,70,80,90,100,110,120,130,140,150,160,170,180,190,200,250,300],'max_features':[ 'auto','sqrt', 'log2'],'criterion': ['gini','entropy']}\n",
        "grid_search = GridSearchCV(rfc,param_grid = param_grid ,n_jobs=-1,scoring = 'accuracy',cv = kfold)"
      ]
    },
    {
      "cell_type": "code",
      "execution_count": null,
      "metadata": {
        "id": "87EoCiQz4raC"
      },
      "outputs": [],
      "source": [
        "grid_search.fit(X_train, y_train)"
      ]
    },
    {
      "cell_type": "code",
      "execution_count": null,
      "metadata": {
        "id": "RAMXy1E341Dw"
      },
      "outputs": [],
      "source": [
        "grid_search.best_params_"
      ]
    },
    {
      "cell_type": "code",
      "execution_count": null,
      "metadata": {
        "id": "xHYi06G941Gi"
      },
      "outputs": [],
      "source": [
        "grid_search.best_estimator_"
      ]
    },
    {
      "cell_type": "code",
      "execution_count": null,
      "metadata": {
        "id": "NKprA9Yk41Jb"
      },
      "outputs": [],
      "source": [
        "rfc1 = RandomForestClassifier(criterion='entropy', n_estimators=60, random_state=1)#max_features='auto', n_estimators=1000,warm_start=True)#n_estimators=1000,warm_start=True)\n",
        "rfc1.fit(X_train,y_train)\n",
        "predictions1 = rfc1.predict(X_test)\n",
        "print(classification_report(y_test,predictions1))"
      ]
    },
    {
      "cell_type": "code",
      "execution_count": null,
      "metadata": {
        "id": "FOdKmwCWCy27"
      },
      "outputs": [],
      "source": [
        "from sklearn.metrics import roc_curve,auc\n",
        "fpr_RF, tpr_RF, thresholds_RF= roc_curve(y_test, predictions1)\n",
        "auc_RF = auc(fpr_RF, tpr_RF)\n"
      ]
    },
    {
      "cell_type": "code",
      "execution_count": null,
      "metadata": {
        "id": "BteafmA5CvSc"
      },
      "outputs": [],
      "source": [
        "plt.figure(figsize = (8,8))\n",
        "plt.plot([0, 1], [0, 1], 'k--')\n",
        "plt.plot(fpr_RF, tpr_RF, label='Keras (area = {:.3f})'.format(auc_RF))\n",
        "#plt.plot(fpr_keras, tpr_keras, label='RF (area = {:.3f})'.format(auc_rf))\n",
        "plt.xlabel('False positive rate')\n",
        "plt.ylabel('True positive rate')\n",
        "plt.title('ROC curve')\n",
        "plt.legend(loc='best')\n",
        "plt.show()"
      ]
    },
    {
      "cell_type": "markdown",
      "source": [
        "# kNN"
      ],
      "metadata": {
        "id": "0RDKJzcBIw1K"
      }
    },
    {
      "cell_type": "code",
      "execution_count": null,
      "metadata": {
        "id": "EN-yJaR3ln0x"
      },
      "outputs": [],
      "source": []
    },
    {
      "cell_type": "code",
      "execution_count": null,
      "metadata": {
        "id": "sOCpWMezkWPW"
      },
      "outputs": [],
      "source": [
        "from sklearn.neighbors import KNeighborsClassifier\n"
      ]
    },
    {
      "cell_type": "code",
      "execution_count": null,
      "metadata": {
        "id": "Cy52pP6Akt-5"
      },
      "outputs": [],
      "source": [
        "knn = KNeighborsClassifier()"
      ]
    },
    {
      "cell_type": "code",
      "execution_count": null,
      "metadata": {
        "id": "Rg_PNMeekuBf"
      },
      "outputs": [],
      "source": [
        "knn.fit(X_train,y_train.ravel())"
      ]
    },
    {
      "cell_type": "code",
      "execution_count": null,
      "metadata": {
        "id": "B_FkTGCnkuEJ"
      },
      "outputs": [],
      "source": [
        "predictions2 = knn.predict(X_test)"
      ]
    },
    {
      "cell_type": "code",
      "execution_count": null,
      "metadata": {
        "id": "xCNRG74GkuGf"
      },
      "outputs": [],
      "source": [
        "from sklearn.metrics import classification_report,confusion_matrix\n",
        "print(classification_report(y_test,predictions2))"
      ]
    },
    {
      "cell_type": "code",
      "execution_count": null,
      "metadata": {
        "id": "1wK04bV2kuJZ"
      },
      "outputs": [],
      "source": [
        "error_rate = []\n",
        "\n",
        "for i in range(1,60): \n",
        "    knn = KNeighborsClassifier(n_neighbors=i)\n",
        "    knn.fit(X_train,y_train.ravel())\n",
        "    pred_i = knn.predict(X_test)\n",
        "    error_rate.append(np.mean(pred_i != y_test))"
      ]
    },
    {
      "cell_type": "code",
      "execution_count": null,
      "metadata": {
        "id": "JIDUBjvZ5vkI"
      },
      "outputs": [],
      "source": [
        "plt.figure(figsize=(10,6))\n",
        "plt.plot(range(1,60),error_rate,color='blue', linestyle='dashed', marker='o',\n",
        "         markerfacecolor='red', markersize=10)\n",
        "plt.title('Error Rate vs. K Value')\n",
        "plt.xlabel('K')\n",
        "plt.ylabel('Error Rate')"
      ]
    },
    {
      "cell_type": "code",
      "execution_count": null,
      "metadata": {
        "id": "yEGK62Cw51Zx"
      },
      "outputs": [],
      "source": [
        "knn1 = KNeighborsClassifier(n_neighbors= 2)"
      ]
    },
    {
      "cell_type": "code",
      "execution_count": null,
      "metadata": {
        "id": "-ke51rDm51b5"
      },
      "outputs": [],
      "source": [
        "knn1.fit(X_train,y_train)\n",
        "predictions3 = knn1.predict(X_test)\n",
        "print(classification_report(y_test,predictions3))"
      ]
    },
    {
      "cell_type": "code",
      "execution_count": null,
      "metadata": {
        "id": "52fx-Cty51fk"
      },
      "outputs": [],
      "source": [
        "from sklearn.model_selection import GridSearchCV\n",
        "kfold =KFold(5)"
      ]
    },
    {
      "cell_type": "code",
      "execution_count": null,
      "metadata": {
        "id": "R1gZ-mGZtEG4"
      },
      "outputs": [],
      "source": [
        "grid_params = { 'n_neighbors' : range(1, 50),\n",
        "               'weights' : ['uniform','distance'],\n",
        "               'metric' : ['minkowski','euclidean','manhattan']}"
      ]
    },
    {
      "cell_type": "code",
      "execution_count": null,
      "metadata": {
        "id": "x9iPQFBAtEJa"
      },
      "outputs": [],
      "source": [
        "gs = GridSearchCV(KNeighborsClassifier(), grid_params, verbose = 1, cv=kfold, n_jobs = -1)"
      ]
    },
    {
      "cell_type": "code",
      "execution_count": null,
      "metadata": {
        "id": "RXxw8WlitEM0"
      },
      "outputs": [],
      "source": [
        "g_res = gs.fit(X_train, y_train)"
      ]
    },
    {
      "cell_type": "code",
      "execution_count": null,
      "metadata": {
        "id": "M0eeRwh95vmm"
      },
      "outputs": [],
      "source": [
        "g_res.best_params_"
      ]
    },
    {
      "cell_type": "code",
      "execution_count": null,
      "metadata": {
        "id": "9ILmSbadtS41"
      },
      "outputs": [],
      "source": [
        "g_res.best_estimator_"
      ]
    },
    {
      "cell_type": "code",
      "execution_count": null,
      "metadata": {
        "id": "GNYDVBYItS7N"
      },
      "outputs": [],
      "source": [
        "new_knn = KNeighborsClassifier(metric='manhattan', n_neighbors=2)#, weights='distance')\n",
        "new_knn.fit(X_train,y_train)\n",
        "predictions4 = new_knn.predict(X_test)\n",
        "print(classification_report(y_test,predictions4))"
      ]
    },
    {
      "cell_type": "code",
      "execution_count": null,
      "metadata": {
        "id": "-NxA0h1mE5v0"
      },
      "outputs": [],
      "source": [
        "from sklearn.metrics import roc_curve,auc\n",
        "fpr_knn, tpr_knn, thresholds_knn = roc_curve(y_test, predictions4)\n",
        "auc_knn = auc(fpr_knn, tpr_knn)"
      ]
    },
    {
      "cell_type": "code",
      "execution_count": null,
      "metadata": {
        "id": "n4GIGdpWE54Y"
      },
      "outputs": [],
      "source": [
        "plt.figure(figsize = (8,8))\n",
        "plt.plot([0, 1], [0, 1], 'k--')\n",
        "plt.plot(fpr_knn, tpr_knn, label='Knn (area = {:.3f})'.format(auc_knn))\n",
        "#plt.plot(fpr_keras, tpr_keras, label='RF (area = {:.3f})'.format(auc_rf))\n",
        "plt.xlabel('False positive rate')\n",
        "plt.ylabel('True positive rate')\n",
        "plt.title('ROC curve')\n",
        "plt.legend(loc='best')\n",
        "plt.show()"
      ]
    },
    {
      "cell_type": "code",
      "execution_count": null,
      "metadata": {
        "id": "PXJeZ_lT5vp8"
      },
      "outputs": [],
      "source": []
    },
    {
      "cell_type": "markdown",
      "source": [
        "# SVM"
      ],
      "metadata": {
        "id": "dnjRtlefI3U4"
      }
    },
    {
      "cell_type": "code",
      "execution_count": null,
      "metadata": {
        "id": "Rnf-UerikuLq"
      },
      "outputs": [],
      "source": [
        "from sklearn.svm import SVC\n",
        "svc = SVC()"
      ]
    },
    {
      "cell_type": "code",
      "execution_count": null,
      "metadata": {
        "id": "WBzwo__XkuPK"
      },
      "outputs": [],
      "source": [
        "svc.fit(X_train, y_train)"
      ]
    },
    {
      "cell_type": "code",
      "execution_count": null,
      "metadata": {
        "id": "MrX4UwpQkWRd"
      },
      "outputs": [],
      "source": [
        "predictions5 = svc.predict(X_test)"
      ]
    },
    {
      "cell_type": "code",
      "execution_count": null,
      "metadata": {
        "id": "Wv0xthwkkWVE"
      },
      "outputs": [],
      "source": [
        "from sklearn.metrics import classification_report,confusion_matrix\n",
        "print(classification_report(y_test,predictions5))"
      ]
    },
    {
      "cell_type": "code",
      "execution_count": null,
      "metadata": {
        "id": "qWhu_QVOkZh5"
      },
      "outputs": [],
      "source": [
        "from sklearn.model_selection import GridSearchCV\n",
        "param_grid = {'C': [0.1, 1, 10, 100, 1000],\n",
        "\t\t\t'gamma': [1, 0.1, 0.01, 0.001, 0.0001],\n",
        "\t\t\t'kernel': ['rbf','poly']}\n",
        "grid = GridSearchCV(SVC(), param_grid, refit = True, verbose = 1,cv = kfold)\n",
        "grid.fit(X_train, y_train)\n"
      ]
    },
    {
      "cell_type": "code",
      "execution_count": null,
      "metadata": {
        "id": "_XoECHP8kZkp"
      },
      "outputs": [],
      "source": [
        "# print best parameter after tuning\n",
        "print(grid.best_params_)\n",
        " \n",
        "# print how our model looks after hyper-parameter tuning\n",
        "print(grid.best_estimator_)"
      ]
    },
    {
      "cell_type": "code",
      "execution_count": null,
      "metadata": {
        "id": "dahDXyEOkZnt"
      },
      "outputs": [],
      "source": [
        "grid_predictions = grid.predict(X_test)\n",
        " \n",
        "# print classification report\n",
        "print(classification_report(y_test, grid_predictions))"
      ]
    },
    {
      "cell_type": "code",
      "execution_count": null,
      "metadata": {
        "id": "wVLe_qJKrwyj"
      },
      "outputs": [],
      "source": [
        "from sklearn.metrics import roc_curve,auc\n",
        "fpr_SVC, tpr_SVC, thresholds_SVC = roc_curve(y_test, grid_predictions)\n",
        "auc_SVC = auc(fpr_SVC, tpr_SVC)"
      ]
    },
    {
      "cell_type": "code",
      "execution_count": null,
      "metadata": {
        "id": "idgcibgarw11"
      },
      "outputs": [],
      "source": [
        "plt.figure(figsize = (8,8))\n",
        "plt.plot([0, 1], [0, 1], 'k--')\n",
        "plt.plot(fpr_SVC, tpr_SVC, label=' SVC (area = {:.3f})'.format(auc_SVC))\n",
        "#plt.plot(fpr_keras, tpr_keras, label='RF (area = {:.3f})'.format(auc_rf))\n",
        "plt.xlabel('False positive rate')\n",
        "plt.ylabel('True positive rate')\n",
        "plt.title('ROC curve')\n",
        "plt.legend(loc='best')\n",
        "plt.show()"
      ]
    },
    {
      "cell_type": "code",
      "execution_count": null,
      "metadata": {
        "id": "YFlTxbVeFzde"
      },
      "outputs": [],
      "source": []
    },
    {
      "cell_type": "code",
      "source": [],
      "metadata": {
        "id": "JhdbAMITVbES"
      },
      "execution_count": null,
      "outputs": []
    },
    {
      "cell_type": "markdown",
      "source": [
        "# LGBM"
      ],
      "metadata": {
        "id": "Ysmh1S7ZI9_I"
      }
    },
    {
      "cell_type": "code",
      "source": [
        "import lightgbm as lgb\n",
        "lgb_model = lgb.LGBMClassifier(random_state=0)  \n",
        "y_pred_lgb = lgb_model.fit(X_train, y_train).predict(X_test)"
      ],
      "metadata": {
        "id": "kJHxicF_Syv4"
      },
      "execution_count": null,
      "outputs": []
    },
    {
      "cell_type": "code",
      "source": [
        "print(classification_report(y_test,y_pred_lgb))"
      ],
      "metadata": {
        "id": "57zjEfWuSyz0"
      },
      "execution_count": null,
      "outputs": []
    },
    {
      "cell_type": "code",
      "source": [
        "params_lgb = {\n",
        "        'bagging_fraction': (0.5, 0.8),\n",
        "        'bagging_frequency': (5, 8),\n",
        "        'feature_fraction': (0.5, 0.8),\n",
        "        'max_depth': (10,11,12,13),\n",
        "        'min_data_in_leaf': (90,100,110, 120),\n",
        "        'num_leaves': (1200, 1550)\n",
        "}\n",
        "grid_search_lgb = GridSearchCV(lgb_model,param_grid = params_lgb ,n_jobs=-1,scoring = 'accuracy',cv = kfold)\n",
        "gs_lgb = grid_search_lgb.fit(X_train, y_train)\n",
        "gs_lgb.best_params_\n",
        "gs_lgb.best_estimator_"
      ],
      "metadata": {
        "id": "9tRHMaP6Sy2I"
      },
      "execution_count": null,
      "outputs": []
    },
    {
      "cell_type": "code",
      "execution_count": null,
      "metadata": {
        "id": "jOWwyAVavm43"
      },
      "outputs": [],
      "source": [
        "new_lgb =  lgb.LGBMClassifier(bagging_fraction=0.5, bagging_frequency=5, feature_fraction=0.8,\n",
        "               max_depth=10, min_data_in_leaf=90, num_leaves=1200,random_state = 0)#, weights='distance')\n",
        "new_lgb.fit(X_train,y_train)\n",
        "grid_predictions_lgb = new_lgb.predict(X_test)\n",
        "print(classification_report(y_test, grid_predictions_lgb))"
      ]
    },
    {
      "cell_type": "code",
      "execution_count": null,
      "metadata": {
        "id": "LLOvj0lrvm8S"
      },
      "outputs": [],
      "source": []
    },
    {
      "cell_type": "code",
      "execution_count": null,
      "metadata": {
        "id": "zYCojtSsvnBw"
      },
      "outputs": [],
      "source": []
    },
    {
      "cell_type": "code",
      "execution_count": null,
      "metadata": {
        "id": "nAcHnIpevnED"
      },
      "outputs": [],
      "source": []
    },
    {
      "cell_type": "code",
      "execution_count": null,
      "metadata": {
        "id": "f2mRY4o4vnHe"
      },
      "outputs": [],
      "source": []
    },
    {
      "cell_type": "markdown",
      "metadata": {
        "id": "6TrIEdLHRlaQ"
      },
      "source": [
        "# optimizers"
      ]
    },
    {
      "cell_type": "markdown",
      "source": [
        "# feature optimization "
      ],
      "metadata": {
        "id": "8P3FbfZeG5bb"
      }
    },
    {
      "cell_type": "code",
      "source": [
        "data_rescaled_df = pd.DataFrame(data_rescaled)\n",
        "data_rescaled_df.columns = data_rescaled_df.columns.astype(str)\n",
        "data_rescaled_df.to_csv('data_rescaled_df.csv')"
      ],
      "metadata": {
        "id": "ZB41ph6mSvRp"
      },
      "execution_count": null,
      "outputs": []
    },
    {
      "cell_type": "code",
      "execution_count": null,
      "metadata": {
        "id": "t_CMV2wIR1OR"
      },
      "outputs": [],
      "source": [
        "X_train1, X_test1, y_train1,y_test1 = train_test_split(data_rescaled_df,train_labels_encoded, test_size=0.2, random_state=0)"
      ]
    },
    {
      "cell_type": "code",
      "source": [
        "from sklearn.metrics import accuracy_score\n",
        "def objective_function_topass(model,X_train1, y_train1, X_test1, y_test1):      \n",
        "    model.fit(X_train1,y_train1)  \n",
        "    P=accuracy_score(y_test1,model.predict(X_test1))\n",
        "    return P"
      ],
      "metadata": {
        "id": "Haozyz5M9D9c"
      },
      "execution_count": null,
      "outputs": []
    },
    {
      "cell_type": "markdown",
      "source": [
        "# Greywolfoptimizer + RandomForest"
      ],
      "metadata": {
        "id": "K1dh8gidJJx_"
      }
    },
    {
      "cell_type": "code",
      "execution_count": null,
      "metadata": {
        "id": "9VmCXx8QRua5"
      },
      "outputs": [],
      "source": [
        "from zoofs import GreyWolfOptimization\n",
        "# create object of algorithm\n",
        "grey_algo_object=GreyWolfOptimization(objective_function_topass,n_iteration=20,\n",
        "                                       population_size=40,minimize=False)"
      ]
    },
    {
      "cell_type": "code",
      "source": [
        "RF_model = RandomForestClassifier(random_state = 1)\n",
        "RF_model.fit(X_train1, y_train1.ravel())\n",
        "predictions_RF = RF_model.predict(X_test1)\n",
        "\n",
        "\n"
      ],
      "metadata": {
        "id": "_5lcl5FTkjxU"
      },
      "execution_count": null,
      "outputs": []
    },
    {
      "cell_type": "code",
      "source": [
        "param_grid_RF = {'n_estimators':[20,30,40,50,60,70,80,90,100,110,120,130,140,150,160,170,180,190,200,250,300],'max_features':['auto','sqrt', 'log2'],'criterion': ['gini','entropy'],'bootstrap':[True, False]}\n",
        "grid_search_RF = GridSearchCV(RF_model,param_grid = param_grid_RF ,n_jobs=-1,scoring = 'accuracy',cv = kfold)\n",
        "grid_search_RF.fit(X_train1,y_train1.ravel())\n",
        "grid_search_RF.best_params_\n",
        "grid_search_RF.best_estimator_\n"
      ],
      "metadata": {
        "id": "SLHz59gZlmiP"
      },
      "execution_count": null,
      "outputs": []
    },
    {
      "cell_type": "code",
      "execution_count": null,
      "metadata": {
        "id": "sJ7-ZUHxSoDV"
      },
      "outputs": [],
      "source": [
        "RF_model = RandomForestClassifier()                                       \n",
        "RF_object_RF = grey_algo_object.fit(RandomForestClassifier(bootstrap = grid_search_RF.best_params_['bootstrap'],\n",
        "                                          max_features = grid_search_RF.best_params_['max_features'],\n",
        "                                          n_estimators = grid_search_RF.best_params_['n_estimators'],\n",
        "                                          criterion = grid_search_RF.best_params_['criterion'],random_state = 1),X_train1, y_train1, X_test1, y_test1,verbose=True)\n",
        "\n",
        "#plot your results\n"
      ]
    },
    {
      "cell_type": "code",
      "source": [
        "print(list(grey_algo_object.best_feature_list))"
      ],
      "metadata": {
        "id": "kSiM4FtsslaJ"
      },
      "execution_count": null,
      "outputs": []
    },
    {
      "cell_type": "code",
      "execution_count": null,
      "metadata": {
        "id": "AEpGR6NBTP-X"
      },
      "outputs": [],
      "source": [
        "grey_algo_object.plot_history()"
      ]
    },
    {
      "cell_type": "code",
      "execution_count": null,
      "metadata": {
        "id": "GC1AgeLWToNg"
      },
      "outputs": [],
      "source": [
        "grey_df1_RF = pd.DataFrame(data_rescaled_df, columns=['1', '2', '3', '4', '5', '6', '7', '8', '9', '10', '11', '12', '14', '16', '17', '18', '19',\n",
        "                                                      '20', '21', '22', '23', '24', '25', '26', '27', '28', '29', '30', '31', '32', '34', '35', '37', \n",
        "                                                      '38', '39', '41', '42', '43', '44', '45', '46', '47', '48', '49', '50', '51', '52', '53', '54',\n",
        "                                                      '55', '56', '57', '58', '59', '60', '61', '62', '64', '65', '66', '67', '68', '69', '70', '72', \n",
        "                                                      '73', '74', '76', '77', '80', '81', '83', '85', '86', '87', '88', '89', '90', '91', '92', '93', \n",
        "                                                      '94', '95']\n",
        " )\n",
        "grey_df1_RF"
      ]
    },
    {
      "cell_type": "code",
      "execution_count": null,
      "metadata": {
        "id": "Qq3lyPVXUORZ"
      },
      "outputs": [],
      "source": [
        "from sklearn.model_selection import train_test_split\n",
        "X_train_RF, X_test_RF, y_train_RF,y_test_RF = train_test_split(grey_df1_RF,train_labels_encoded, test_size=0.2, random_state=0)"
      ]
    },
    {
      "cell_type": "code",
      "execution_count": null,
      "metadata": {
        "id": "oYaCiQUITQLe"
      },
      "outputs": [],
      "source": [
        "grey_rfc = RandomForestClassifier(bootstrap=False, max_features='log2', n_estimators=40,\n",
        "                       random_state=1)   ###grey-random_forest"
      ]
    },
    {
      "cell_type": "code",
      "execution_count": null,
      "metadata": {
        "id": "U2a4xfnxTQQ8"
      },
      "outputs": [],
      "source": [
        "grey_rfc.fit(X_train_RF, y_train_RF.ravel())"
      ]
    },
    {
      "cell_type": "code",
      "execution_count": null,
      "metadata": {
        "id": "dyXWS3_gTQVE"
      },
      "outputs": [],
      "source": [
        "grey_predictions = grey_rfc.predict(X_test_RF)\n"
      ]
    },
    {
      "cell_type": "code",
      "execution_count": null,
      "metadata": {
        "id": "1ySCyVl1Un5F"
      },
      "outputs": [],
      "source": [
        "from sklearn.metrics import classification_report,confusion_matrix\n",
        "print(classification_report(y_test_RF,grey_predictions))"
      ]
    },
    {
      "cell_type": "code",
      "source": [],
      "metadata": {
        "id": "3R9JTZgUxQsi"
      },
      "execution_count": null,
      "outputs": []
    },
    {
      "cell_type": "code",
      "source": [],
      "metadata": {
        "id": "-Pv6EdQxxQwA"
      },
      "execution_count": null,
      "outputs": []
    },
    {
      "cell_type": "markdown",
      "source": [
        "# GreywolfOptimizer + KNN"
      ],
      "metadata": {
        "id": "Nf0mhmRsJVaz"
      }
    },
    {
      "cell_type": "code",
      "execution_count": null,
      "metadata": {
        "id": "BYYYRaUGVYCf"
      },
      "outputs": [],
      "source": [
        "KNN_model = KNeighborsClassifier()\n",
        "KNN_model.fit(X_train1, y_train1.ravel())\n",
        "predictions_KNN = KNN_model.predict(X_test1)\n",
        "print(classification_report(y_test1,predictions_KNN))"
      ]
    },
    {
      "cell_type": "code",
      "execution_count": null,
      "metadata": {
        "id": "xEvtjd5pVYGK"
      },
      "outputs": [],
      "source": [
        "grid_params_KNN = { 'n_neighbors' : range(1, 50),\n",
        "               'weights' : ['uniform','distance'],\n",
        "               'metric' : ['minkowski','euclidean','manhattan']}\n",
        "gs = GridSearchCV(KNeighborsClassifier(), grid_params_KNN, verbose = 1, cv=kfold, n_jobs = -1)\n",
        "grid_search_KNN = gs.fit(X_train1, y_train1)\n",
        "grid_search_KNN.best_params_\n",
        "grid_search_KNN.best_estimator_"
      ]
    },
    {
      "cell_type": "code",
      "execution_count": null,
      "metadata": {
        "id": "oHbAwyHZVYNP"
      },
      "outputs": [],
      "source": [
        "KNN_object = grey_algo_object.fit(KNeighborsClassifier(n_neighbors = grid_search_KNN.best_params_['n_neighbors'],\n",
        "                                          weights = grid_search_KNN.best_params_['weights'],\n",
        "                                          metric = grid_search_KNN.best_params_['metric']),X_train1, y_train1, X_test1, y_test1,verbose=True)"
      ]
    },
    {
      "cell_type": "code",
      "source": [
        "print(list(grey_algo_object.best_feature_list))"
      ],
      "metadata": {
        "id": "ARNXXCiNxyse"
      },
      "execution_count": null,
      "outputs": []
    },
    {
      "cell_type": "code",
      "execution_count": null,
      "metadata": {
        "id": "pzYxkGGQVYQe"
      },
      "outputs": [],
      "source": [
        "grey_algo_object.plot_history()"
      ]
    },
    {
      "cell_type": "code",
      "execution_count": null,
      "metadata": {
        "id": "PsD0xaNoVYT0"
      },
      "outputs": [],
      "source": [
        "grey_df1_KNN = pd.DataFrame(data_rescaled_df, columns=['0', '2', '3', '5', '6', '7', '8', '9', '10', '11', '14', '15', '16', '17', '18', '19', \n",
        "                                                       '22', '23', '24', '25', '26', '27', '28', '30', '31', '32', '33', '34', '35', '36', '38',\n",
        "                                                       '39', '40', '41', '42', '43', '44', '45', '46', '47', '48', '49', '50', '51', '52', '53', \n",
        "                                                       '54', '55', '56', '58', '59', '60', '61', '63', '64', '65', '66', '67', '68', '69', '70', \n",
        "                                                       '71', '72', '73', '74', '75', '76', '77', '79', '80', '81', '82', '83', '84', '85', '86', \n",
        "                                                       '88', '89', '90', '91', '92', '93', '94', '95', '96'])\n",
        "grey_df1_KNN"
      ]
    },
    {
      "cell_type": "code",
      "execution_count": null,
      "metadata": {
        "id": "io7aYboLVYXj"
      },
      "outputs": [],
      "source": [
        "X_train_KNN, X_test_KNN, y_train_KNN,y_test_KNN= train_test_split(grey_df1_KNN,train_labels_encoded, test_size=0.2, random_state=0)"
      ]
    },
    {
      "cell_type": "code",
      "execution_count": null,
      "metadata": {
        "id": "bqimeKjKVYdJ"
      },
      "outputs": [],
      "source": [
        "grey_KNN= KNeighborsClassifier(n_neighbors=6, weights='distance')  \n",
        "grey_KNN.fit(X_train_KNN, y_train_KNN.ravel())\n",
        "grey_predictions_KNN = grey_KNN.predict(X_test_KNN)\n",
        "print(classification_report(y_test_KNN,grey_predictions_KNN))"
      ]
    },
    {
      "cell_type": "code",
      "execution_count": null,
      "metadata": {
        "id": "KJw3kO5R4Y0U"
      },
      "outputs": [],
      "source": []
    },
    {
      "cell_type": "markdown",
      "source": [
        "# GreywolfOptimizer + SVM"
      ],
      "metadata": {
        "id": "nOpUTELhJf1E"
      }
    },
    {
      "cell_type": "code",
      "execution_count": null,
      "metadata": {
        "id": "SFXjkRVo2jvO"
      },
      "outputs": [],
      "source": [
        "SVC_model = SVC(random_state = 0)\n",
        "SVC_model.fit(X_train1, y_train1.ravel())\n",
        "predictions_SVC= SVC_model.predict(X_test1)\n",
        "print(classification_report(y_test1,predictions_SVC))"
      ]
    },
    {
      "cell_type": "code",
      "execution_count": null,
      "metadata": {
        "id": "SiLwJzvK2jx5"
      },
      "outputs": [],
      "source": [
        "grid_params_SVC = {'C': [0.1, 1, 10, 100, 1000],\n",
        "\t\t\t'gamma': [1, 0.1, 0.01, 0.001, 0.0001],\n",
        "\t\t\t'kernel': ['rbf','poly']}\n",
        "grid_search_SVC = GridSearchCV(SVC_model, grid_params_SVC, verbose = 1, cv=kfold, n_jobs = -1)\n",
        "grid_search_SVC= grid_search_SVC.fit(X_train1, y_train1)"
      ]
    },
    {
      "cell_type": "code",
      "source": [
        "grid_search_SVC.best_params_\n",
        "grid_search_SVC.best_estimator_"
      ],
      "metadata": {
        "id": "Z-8hV54D0wwX"
      },
      "execution_count": null,
      "outputs": []
    },
    {
      "cell_type": "code",
      "execution_count": null,
      "metadata": {
        "id": "eIweHYxW2j0e"
      },
      "outputs": [],
      "source": [
        "SVC_object = grey_algo_object.fit(SVC(C = grid_search_SVC.best_params_['C'],\n",
        "                                          gamma = grid_search_SVC.best_params_['gamma'],\n",
        "                                          kernel = grid_search_SVC.best_params_['kernel'],random_state = 0),X_train1, y_train1, X_test1, y_test1,verbose=True)"
      ]
    },
    {
      "cell_type": "code",
      "execution_count": null,
      "metadata": {
        "id": "BVdQ9yc62j3U"
      },
      "outputs": [],
      "source": [
        "print(list(grey_algo_object.best_feature_list))"
      ]
    },
    {
      "cell_type": "code",
      "execution_count": null,
      "metadata": {
        "id": "CMzkUvlT2j68"
      },
      "outputs": [],
      "source": [
        "grey_algo_object.plot_history()"
      ]
    },
    {
      "cell_type": "code",
      "execution_count": null,
      "metadata": {
        "id": "PEDymMiT2j9b"
      },
      "outputs": [],
      "source": [
        "grey_df1_SVC= pd.DataFrame(data_rescaled_df,columns=['0', '1', '2', '4', '5', '6', '7', '8', '9', '10', '11', '12', '13', '14', '15', '16',\n",
        "                                                     '18', '21', '23', '24', '25', '28', '29', '31', '32', '34', '35', '36', '38', '40', '41',\n",
        "                                                     '42', '43', '44', '45', '46', '47', '49', '50', '51', '52', '53', '54', '55', '56', '57', \n",
        "                                                     '58', '59', '60', '61', '62', '64', '65', '66', '67', '68', '69', '70', '71', '72', '73',\n",
        "                                                     '74', '75', '76', '77', '78', '79', '80', '81', '82', '84', '85', '86', '87', '88', '89',\n",
        "                                                     '90', '93', '94', '96', '97'])\n",
        "grey_df1_SVC"
      ]
    },
    {
      "cell_type": "code",
      "execution_count": null,
      "metadata": {
        "id": "fu6H9et2VYpx"
      },
      "outputs": [],
      "source": [
        "X_train_SVC, X_test_SVC, y_train_SVC,y_test_SVC= train_test_split(grey_df1_SVC,train_labels_encoded, test_size=0.2, random_state=0)"
      ]
    },
    {
      "cell_type": "code",
      "execution_count": null,
      "metadata": {
        "id": "Z-AKKXfX-dZq"
      },
      "outputs": [],
      "source": [
        "grey_SVC= SVC(C=100, gamma=0.001, random_state=0)  \n",
        "grey_SVC.fit(X_train_SVC, y_train_SVC.ravel())\n",
        "grey_predictions_SVC = grey_SVC.predict(X_test_SVC)"
      ]
    },
    {
      "cell_type": "code",
      "source": [
        "print(classification_report(y_test_SVC,grey_predictions_SVC))"
      ],
      "metadata": {
        "id": "pa_WN7Qt1kTS"
      },
      "execution_count": null,
      "outputs": []
    },
    {
      "cell_type": "markdown",
      "source": [
        "# GreywolfOptimizer + LGB"
      ],
      "metadata": {
        "id": "P29_ul3wJlSX"
      }
    },
    {
      "cell_type": "code",
      "source": [
        "import lightgbm as lgb\n",
        "LGB_model = lgb.LGBMClassifier(random_state = 0)  \n",
        "y_pred_LGB = LGB_model.fit(X_train1, y_train1).predict(X_test1)\n",
        "print(classification_report(y_test1,y_pred_LGB))"
      ],
      "metadata": {
        "id": "4U6ylQRnwMfg"
      },
      "execution_count": null,
      "outputs": []
    },
    {
      "cell_type": "code",
      "source": [
        "grid_params_LGB ={\n",
        "        'bagging_fraction': (0.5, 0.8),\n",
        "        'bagging_frequency': (5, 8),\n",
        "        'feature_fraction': (0.5, 0.8),\n",
        "        'max_depth': (10,11,12,13),\n",
        "        'min_data_in_leaf': (90,100,110, 120),\n",
        "        'num_leaves': (1200, 1550)}\n",
        "grid_search_LGB = GridSearchCV(LGB_model, grid_params_LGB, verbose = 1, cv=kfold, n_jobs = -1)\n",
        "grid_search_LGB= grid_search_LGB.fit(X_train1, y_train1)\n"
      ],
      "metadata": {
        "id": "jx7c2kYhwMiK"
      },
      "execution_count": null,
      "outputs": []
    },
    {
      "cell_type": "code",
      "source": [
        "grid_search_LGB.best_params_\n",
        "grid_search_LGB.best_estimator_"
      ],
      "metadata": {
        "id": "zXryZy60y59G"
      },
      "execution_count": null,
      "outputs": []
    },
    {
      "cell_type": "code",
      "source": [
        "LGB_object = grey_algo_object.fit(lgb.LGBMClassifier(bagging_fraction = grid_search_LGB.best_params_['bagging_fraction'],\n",
        "                                          bagging_frequency = grid_search_LGB.best_params_['bagging_frequency'],\n",
        "                                          feature_fraction = grid_search_LGB.best_params_['feature_fraction'],\n",
        "                                          max_depth = grid_search_LGB.best_params_['max_depth'],\n",
        "                                          min_data_in_leaf=grid_search_LGB.best_params_['min_data_in_leaf'],\n",
        "                                          num_leaves=grid_search_LGB.best_params_['num_leaves'],\n",
        "                                          random_state = 0),X_train1, y_train1, X_test1, y_test1,verbose=True)"
      ],
      "metadata": {
        "id": "Cnajukx-wMk9"
      },
      "execution_count": null,
      "outputs": []
    },
    {
      "cell_type": "code",
      "source": [
        "print(list(grey_algo_object.best_feature_list))"
      ],
      "metadata": {
        "id": "igl7ujXbwMn4"
      },
      "execution_count": null,
      "outputs": []
    },
    {
      "cell_type": "code",
      "source": [
        "grey_algo_object.plot_history()"
      ],
      "metadata": {
        "id": "yV_Vf56AwMrC"
      },
      "execution_count": null,
      "outputs": []
    },
    {
      "cell_type": "code",
      "source": [
        "grey_df1_LGB= pd.DataFrame(data_rescaled_df,columns=['0', '2', '3', '4', '5', '6', '8', '9', '10', '11', '12', '13', '14', '15', '16', '17', '20', '21', '22', \n",
        "                                                     '23', '24', '25', '27', '28', '29', '30', '32', '33', '34', '35', '36', '39', '40', '41', '42', '43', \n",
        "                                                     '44', '45', '46', '47', '48', '49', '50', '51', '52', '53', '54', '55', '56', '57', '58', '59', '60',\n",
        "                                                     '61', '62', '63', '66', '67', '69', '70', '71', '73', '75', '76', '78', '79', '80', '81', '82', '83',\n",
        "                                                     '84', '85', '86', '87', '88', '89', '90', '91', '92', '93', '94', '96', '97'])\n",
        "grey_df1_LGB"
      ],
      "metadata": {
        "id": "zW_gho_ryBDF"
      },
      "execution_count": null,
      "outputs": []
    },
    {
      "cell_type": "code",
      "source": [
        "X_train_LGB, X_test_LGB, y_train_LGB,y_test_LGB= train_test_split(grey_df1_LGB,train_labels_encoded, test_size=0.2, random_state=0)"
      ],
      "metadata": {
        "id": "pFXfhYfzyBGU"
      },
      "execution_count": null,
      "outputs": []
    },
    {
      "cell_type": "code",
      "source": [
        "grey_LGB= lgb.LGBMClassifier(bagging_fraction=0.5, bagging_frequency=5, feature_fraction=0.5,\n",
        "               max_depth=10, min_data_in_leaf=110, num_leaves=1200,\n",
        "               random_state=0)  \n",
        "grey_LGB.fit(X_train_LGB, y_train_LGB.ravel())\n",
        "grey_predictions_LGB = grey_LGB.predict(X_test_LGB)\n",
        "print(classification_report(y_test_LGB,grey_predictions_LGB))"
      ],
      "metadata": {
        "id": "LEsaP3N6yBJp"
      },
      "execution_count": null,
      "outputs": []
    },
    {
      "cell_type": "code",
      "source": [],
      "metadata": {
        "id": "r3DxW2aOyBM3"
      },
      "execution_count": null,
      "outputs": []
    },
    {
      "cell_type": "markdown",
      "source": [
        "# PSO  + RandomForest"
      ],
      "metadata": {
        "id": "ZLaPi1aDJrtR"
      }
    },
    {
      "cell_type": "code",
      "execution_count": null,
      "metadata": {
        "id": "CwxmqRKaAPAV"
      },
      "outputs": [],
      "source": [
        "from zoofs import ParticleSwarmOptimization\n",
        "# create object of algorithm\n",
        "PSO_algo_object=ParticleSwarmOptimization(objective_function_topass,n_iteration=20,\n",
        "                                       population_size=40,minimize=False)"
      ]
    },
    {
      "cell_type": "code",
      "execution_count": null,
      "metadata": {
        "id": "-_JNEKkdAPCq"
      },
      "outputs": [],
      "source": [
        "RFC_object_PSO = PSO_algo_object.fit(RandomForestClassifier(bootstrap = grid_search_RF.best_params_['bootstrap'],\n",
        "                                          max_features = grid_search_RF.best_params_['max_features'],\n",
        "                                          n_estimators = grid_search_RF.best_params_['n_estimators'],\n",
        "                                          criterion = grid_search_RF.best_params_['criterion'],random_state = 1),X_train1, y_train1, X_test1, y_test1,verbose=True)\n"
      ]
    },
    {
      "cell_type": "code",
      "execution_count": null,
      "metadata": {
        "id": "ZkrDWKkeAPE_"
      },
      "outputs": [],
      "source": [
        "print(list(PSO_algo_object.best_feature_list))"
      ]
    },
    {
      "cell_type": "code",
      "execution_count": null,
      "metadata": {
        "id": "nQjNNn9iAPHE"
      },
      "outputs": [],
      "source": [
        "PSO_algo_object.plot_history()"
      ]
    },
    {
      "cell_type": "code",
      "execution_count": null,
      "metadata": {
        "id": "w08AZJn2APLI"
      },
      "outputs": [],
      "source": [
        "PSO_df1_RFC= pd.DataFrame(data_rescaled_df, columns=['1', '6', '7', '8', '9', '10', '11', '12', '13', '15', '16', '17', '18', '21', '22', '23', '26', \n",
        "                                                     '32', '35', '36', '38', '45', '46', '48', '50', '54', '57', '58', '60', '62', '65', '66', '67',\n",
        "                                                     '69', '70', '73', '74', '77', '81', '85', '86', '87', '90', '92', '93', '94', '96', '97']\n",
        " \n",
        " )\n",
        "PSO_df1_RFC"
      ]
    },
    {
      "cell_type": "code",
      "execution_count": null,
      "metadata": {
        "id": "zwq25WalNVdU"
      },
      "outputs": [],
      "source": [
        "X_train_RFC_PSO, X_test_RFC_PSO, y_train_RFC_PSO,y_test_RFC_PSO= train_test_split(PSO_df1_RFC,train_labels_encoded, test_size=0.2, random_state=0)"
      ]
    },
    {
      "cell_type": "code",
      "source": [
        "PSO_RFC= RandomForestClassifier(bootstrap=False, max_features='log2', n_estimators=40,\n",
        "                       random_state=1)  \n",
        "PSO_RFC.fit(X_train_RFC_PSO, y_train_RFC_PSO.ravel())\n",
        "PSO_predictions_RFC = PSO_RFC.predict(X_test_RFC_PSO)\n",
        "print(classification_report(y_test_RFC_PSO,PSO_predictions_RFC))"
      ],
      "metadata": {
        "id": "tdDaIT_a_cOZ"
      },
      "execution_count": null,
      "outputs": []
    },
    {
      "cell_type": "code",
      "source": [],
      "metadata": {
        "id": "PHjlcOac_cRm"
      },
      "execution_count": null,
      "outputs": []
    },
    {
      "cell_type": "markdown",
      "source": [
        "# PSO  + KNN"
      ],
      "metadata": {
        "id": "2onzyYi8J4_9"
      }
    },
    {
      "cell_type": "code",
      "source": [
        "KNN_object_PSO = PSO_algo_object.fit(KNeighborsClassifier(n_neighbors = grid_search_KNN.best_params_['n_neighbors'],\n",
        "                                          weights = grid_search_KNN.best_params_['weights'],\n",
        "                                          metric = grid_search_KNN.best_params_['metric']),X_train1, y_train1, X_test1, y_test1,verbose=True)\n",
        "\n",
        "#plot your results\n"
      ],
      "metadata": {
        "id": "BTZnQXmmBzxY"
      },
      "execution_count": null,
      "outputs": []
    },
    {
      "cell_type": "code",
      "source": [
        "print(list(PSO_algo_object.best_feature_list))"
      ],
      "metadata": {
        "id": "5JG99z5dB8Jk"
      },
      "execution_count": null,
      "outputs": []
    },
    {
      "cell_type": "code",
      "source": [
        "PSO_algo_object.plot_history()"
      ],
      "metadata": {
        "id": "VOPUYqCxB8MV"
      },
      "execution_count": null,
      "outputs": []
    },
    {
      "cell_type": "code",
      "source": [
        "PSO_df1_KNN= pd.DataFrame(data_rescaled_df, columns=['2', '4', '5', '6', '7', '8', '9', '10', '11', '12', '13', '15', '20', '21', '26', '27', '29', '32',\n",
        "                                                     '33', '35', '36', '38', '39', '41', '42', '44', '48', '49', '50', '55', '58', '60', '65', '66', '67',\n",
        "                                                     '72', '73', '74', '75', '77', '78', '85', '88', '92', '93', '94', '95']\n",
        " \n",
        " )\n",
        "PSO_df1_KNN"
      ],
      "metadata": {
        "id": "wPtFrOcJB8O4"
      },
      "execution_count": null,
      "outputs": []
    },
    {
      "cell_type": "code",
      "source": [
        "X_train_KNN_PSO, X_test_KNN_PSO, y_train_KNN_PSO,y_test_KNN_PSO= train_test_split(PSO_df1_KNN,train_labels_encoded, test_size=0.2, random_state=0)"
      ],
      "metadata": {
        "id": "VT4Gf0b4B8Q_"
      },
      "execution_count": null,
      "outputs": []
    },
    {
      "cell_type": "code",
      "source": [
        "PSO_KNN= KNeighborsClassifier(n_neighbors=6, weights='distance') \n",
        "PSO_KNN.fit(X_train_KNN_PSO, y_train_KNN_PSO.ravel())\n",
        "PSO_predictions_KNN = PSO_KNN.predict(X_test_KNN_PSO)\n",
        "print(classification_report(y_test_KNN_PSO,PSO_predictions_KNN))"
      ],
      "metadata": {
        "id": "yDufD0eKB8Tg"
      },
      "execution_count": null,
      "outputs": []
    },
    {
      "cell_type": "code",
      "source": [],
      "metadata": {
        "id": "ZaNbpBDTB8Vm"
      },
      "execution_count": null,
      "outputs": []
    },
    {
      "cell_type": "markdown",
      "source": [
        "# PSO  + SVM"
      ],
      "metadata": {
        "id": "UYQyZjTZJ9KK"
      }
    },
    {
      "cell_type": "code",
      "source": [
        "SVC_object_PSO = PSO_algo_object.fit(SVC(C = grid_search_SVC.best_params_['C'],\n",
        "                                          gamma = grid_search_SVC.best_params_['gamma'],\n",
        "                                          kernel = grid_search_SVC.best_params_['kernel']),X_train1, y_train1, X_test1, y_test1,verbose=True)\n",
        "\n",
        "#plot your results\n"
      ],
      "metadata": {
        "id": "MnlF63nFDUJt"
      },
      "execution_count": null,
      "outputs": []
    },
    {
      "cell_type": "code",
      "source": [
        "print(list(PSO_algo_object.best_feature_list))"
      ],
      "metadata": {
        "id": "lYaC8nPDDUMT"
      },
      "execution_count": null,
      "outputs": []
    },
    {
      "cell_type": "code",
      "source": [
        "PSO_algo_object.plot_history()"
      ],
      "metadata": {
        "id": "XPcgmZ6lDUO0"
      },
      "execution_count": null,
      "outputs": []
    },
    {
      "cell_type": "code",
      "source": [
        "PSO_df1_SVC= pd.DataFrame(data_rescaled_df, columns=['1', '4', '7', '11', '12', '16', '19', '20', '26', '27', '33', '34', '35', '36', '40', '41', \n",
        "                                                     '44', '45', '48', '49', '52', '53', '56', '57', '58', '59', '61', '63', '64', '66', '67', '68', \n",
        "                                                     '69', '70', '72', '74', '76', '77', '78', '80', '81', '84', '85', '86', '89', '90', '91', '94',\n",
        "                                                     '95', '97']\n",
        " \n",
        " )\n",
        "PSO_df1_SVC"
      ],
      "metadata": {
        "id": "H-oSkfr0DURU"
      },
      "execution_count": null,
      "outputs": []
    },
    {
      "cell_type": "code",
      "source": [
        "from sklearn.model_selection import train_test_split\n",
        "X_train_SVC_PSO, X_test_SVC_PSO, y_train_SVC_PSO,y_test_SVC_PSO= train_test_split(PSO_df1_SVC,train_labels_encoded, test_size=0.2, random_state=0)"
      ],
      "metadata": {
        "id": "emFTCTrxDUV_"
      },
      "execution_count": null,
      "outputs": []
    },
    {
      "cell_type": "code",
      "source": [
        "PSO_SVC= SVC(C=100, gamma=0.001, random_state=0)  \n",
        "PSO_SVC.fit(X_train_SVC_PSO, y_train_SVC_PSO.ravel())\n",
        "PSO_predictions_SVC = PSO_SVC.predict(X_test_SVC_PSO)\n",
        "print(classification_report(y_test_SVC_PSO,PSO_predictions_SVC))"
      ],
      "metadata": {
        "id": "nUKlqM2BDUY7"
      },
      "execution_count": null,
      "outputs": []
    },
    {
      "cell_type": "code",
      "source": [],
      "metadata": {
        "id": "gPAcgsz60YpY"
      },
      "execution_count": null,
      "outputs": []
    },
    {
      "cell_type": "markdown",
      "source": [
        "# PSO  + LGB"
      ],
      "metadata": {
        "id": "FymQVNQrKC7x"
      }
    },
    {
      "cell_type": "code",
      "source": [
        "LGB_object_PSO = PSO_algo_object.fit(lgb.LGBMClassifier(bagging_fraction = grid_search_LGB.best_params_['bagging_fraction'],\n",
        "                                          bagging_frequency = grid_search_LGB.best_params_['bagging_frequency'],\n",
        "                                          feature_fraction = grid_search_LGB.best_params_['feature_fraction'],\n",
        "                                          max_depth = grid_search_LGB.best_params_['max_depth'],\n",
        "                                          min_data_in_leaf=grid_search_LGB.best_params_['min_data_in_leaf'],\n",
        "                                          num_leaves=grid_search_LGB.best_params_['num_leaves'],\n",
        "                                          random_state = 0),X_train1, y_train1, X_test1, y_test1,verbose=True)\n",
        "\n",
        "#plot your results\n"
      ],
      "metadata": {
        "id": "YU0Mt-Ki0Ysj"
      },
      "execution_count": null,
      "outputs": []
    },
    {
      "cell_type": "code",
      "source": [
        "print(list(PSO_algo_object.best_feature_list))"
      ],
      "metadata": {
        "id": "KvEDFSKO0YvY"
      },
      "execution_count": null,
      "outputs": []
    },
    {
      "cell_type": "code",
      "source": [
        "PSO_algo_object.plot_history()"
      ],
      "metadata": {
        "id": "UQrFPz-j0YyE"
      },
      "execution_count": null,
      "outputs": []
    },
    {
      "cell_type": "code",
      "source": [
        "PSO_df1_LGB= pd.DataFrame(data_rescaled_df, columns=['1', '9', '10', '11', '12', '13', '14', '16', '17', '20', '21', '22', '23', '24', '25', '26', '29',\n",
        "                                                     '30', '31', '33', '34', '38', '41', '43', '44', '47', '48', '49', '50', '51', '57', '58', '59', '60', \n",
        "                                                     '61', '62', '64', '65', '67', '68', '74', '75', '82', '83', '84', '85', '86', '91', '92', '93', '94', '97']\n",
        " \n",
        " )\n",
        "PSO_df1_LGB"
      ],
      "metadata": {
        "id": "p1r9NA6q0qVh"
      },
      "execution_count": null,
      "outputs": []
    },
    {
      "cell_type": "code",
      "source": [
        "X_train_LGB_PSO, X_test_LGB_PSO, y_train_LGB_PSO,y_test_LGB_PSO= train_test_split(PSO_df1_LGB,train_labels_encoded, test_size=0.2, random_state=0)"
      ],
      "metadata": {
        "id": "Fp-qzhFq0qYa"
      },
      "execution_count": null,
      "outputs": []
    },
    {
      "cell_type": "code",
      "source": [
        "PSO_LGB= lgb.LGBMClassifier(bagging_fraction=0.5, bagging_frequency=5, feature_fraction=0.5,\n",
        "               max_depth=10, min_data_in_leaf=110, num_leaves=1200,\n",
        "               random_state=0)    \n",
        "PSO_LGB.fit(X_train_LGB_PSO, y_train_LGB_PSO.ravel())\n",
        "PSO_predictions_LGB = PSO_LGB.predict(X_test_LGB_PSO)\n",
        "print(classification_report(y_test_LGB_PSO,PSO_predictions_LGB))"
      ],
      "metadata": {
        "id": "EWbYBPbf0qbu"
      },
      "execution_count": null,
      "outputs": []
    },
    {
      "cell_type": "code",
      "source": [],
      "metadata": {
        "id": "s3O22rCzD40T"
      },
      "execution_count": null,
      "outputs": []
    },
    {
      "cell_type": "markdown",
      "source": [
        "# GO + RandomForest"
      ],
      "metadata": {
        "id": "-ZbkJF9XoGPy"
      }
    },
    {
      "cell_type": "code",
      "source": [
        "from zoofs import GeneticOptimization\n",
        "# create object of algorithm\n",
        "GO_algo_object=GeneticOptimization(objective_function_topass,n_iteration=20,\n",
        "                                       population_size=40,minimize=False)"
      ],
      "metadata": {
        "id": "L2JLH52CD424"
      },
      "execution_count": null,
      "outputs": []
    },
    {
      "cell_type": "code",
      "source": [
        "RFC_object_GO = GO_algo_object.fit(RandomForestClassifier(bootstrap = grid_search_RF.best_params_['bootstrap'],\n",
        "                                          max_features = grid_search_RF.best_params_['max_features'],\n",
        "                                          n_estimators = grid_search_RF.best_params_['n_estimators'],\n",
        "                                          criterion = grid_search_RF.best_params_['criterion'],random_state = 1),X_train1, y_train1, X_test1, y_test1,verbose=True)\n",
        "\n",
        "#plot your results\n"
      ],
      "metadata": {
        "id": "9qbqblGUD46H"
      },
      "execution_count": null,
      "outputs": []
    },
    {
      "cell_type": "code",
      "source": [
        "print(list(GO_algo_object.best_feature_list))"
      ],
      "metadata": {
        "id": "_uQ7kGMjDhrQ"
      },
      "execution_count": null,
      "outputs": []
    },
    {
      "cell_type": "code",
      "source": [
        "GO_algo_object.plot_history()"
      ],
      "metadata": {
        "id": "yIBXJ5lYDhui"
      },
      "execution_count": null,
      "outputs": []
    },
    {
      "cell_type": "code",
      "source": [
        "GO_df1_RFC= pd.DataFrame(data_rescaled_df, columns=['2', '3', '7', '9', '11', '12', '14', '15', '17', '19', '32', '33', '34', '38', '41',\n",
        "                                                    '42', '43', '47', '57', '59', '61', '64', '65', '66', '67', '68', '69', '71', '73', '74', \n",
        "                                                    '75', '77', '78', '89', '92', '94', '96', '97']\n",
        " \n",
        " )\n",
        "GO_df1_RFC"
      ],
      "metadata": {
        "id": "Zd07xoaboYoe"
      },
      "execution_count": null,
      "outputs": []
    },
    {
      "cell_type": "code",
      "source": [
        "X_train_RFC_GO, X_test_RFC_GO, y_train_RFC_GO,y_test_RFC_GO= train_test_split(GO_df1_RFC,train_labels_encoded, test_size=0.2, random_state=0)"
      ],
      "metadata": {
        "id": "1bBhQXj3oYq-"
      },
      "execution_count": null,
      "outputs": []
    },
    {
      "cell_type": "code",
      "source": [
        "GO_RFC= RandomForestClassifier(bootstrap=False, max_features='log2', n_estimators=40,\n",
        "                       random_state=1)   \n",
        "GO_RFC.fit(X_train_RFC_GO, y_train_RFC_GO.ravel())\n",
        "GO_predictions_RFC = GO_RFC.predict(X_test_RFC_GO)\n",
        "print(classification_report(y_test_RFC_GO,GO_predictions_RFC))"
      ],
      "metadata": {
        "id": "S3RYErHDoYt0"
      },
      "execution_count": null,
      "outputs": []
    },
    {
      "cell_type": "code",
      "source": [],
      "metadata": {
        "id": "mno-57HZp_4a"
      },
      "execution_count": null,
      "outputs": []
    },
    {
      "cell_type": "markdown",
      "source": [
        "# GO +KNN"
      ],
      "metadata": {
        "id": "oRh6r-6EKOi8"
      }
    },
    {
      "cell_type": "code",
      "source": [
        "KNN_object_GO = GO_algo_object.fit(KNeighborsClassifier(n_neighbors = grid_search_KNN.best_params_['n_neighbors'],\n",
        "                                          weights = grid_search_KNN.best_params_['weights'],\n",
        "                                          metric = grid_search_KNN.best_params_['metric']),X_train1, y_train1, X_test1, y_test1,verbose=True)\n",
        "#plot your results\n"
      ],
      "metadata": {
        "id": "yt-kx48gqAEx"
      },
      "execution_count": null,
      "outputs": []
    },
    {
      "cell_type": "code",
      "source": [
        "print(list(GO_algo_object.best_feature_list))"
      ],
      "metadata": {
        "id": "ddS9FaiPqAHR"
      },
      "execution_count": null,
      "outputs": []
    },
    {
      "cell_type": "code",
      "source": [
        "GO_algo_object.plot_history()"
      ],
      "metadata": {
        "id": "qnUoBbQoqAJ_"
      },
      "execution_count": null,
      "outputs": []
    },
    {
      "cell_type": "code",
      "source": [
        "GO_df1_KNN= pd.DataFrame(data_rescaled_df, columns=['0', '1', '3', '6', '7', '8', '11', '13', '18', '24', '25', '26', '31', '32', '33', '36', '39', \n",
        "                                                    '43', '45', '47', '49', '50', '51', '52', '54', '56', '62', '66', '67', '79', '81', '83', '84', \n",
        "                                                    '88', '89', '92', '93', '95']\n",
        " \n",
        " )\n",
        "GO_df1_KNN"
      ],
      "metadata": {
        "id": "SYAa9WhLqANG"
      },
      "execution_count": null,
      "outputs": []
    },
    {
      "cell_type": "code",
      "source": [
        "X_train_KNN_GO, X_test_KNN_GO, y_train_KNN_GO,y_test_KNN_GO= train_test_split(GO_df1_KNN,train_labels_encoded, test_size=0.2, random_state=0)"
      ],
      "metadata": {
        "id": "zVlx6r8FqAP0"
      },
      "execution_count": null,
      "outputs": []
    },
    {
      "cell_type": "code",
      "source": [
        "GO_KNN = KNeighborsClassifier(n_neighbors=6, weights='distance')   \n",
        "GO_KNN.fit(X_train_KNN_GO, y_train_KNN_GO.ravel())\n",
        "GO_predictions_KNN = GO_KNN.predict(X_test_KNN_GO)\n",
        "print(classification_report(y_test_KNN_GO,GO_predictions_KNN))"
      ],
      "metadata": {
        "id": "Nvyf9rFsqATz"
      },
      "execution_count": null,
      "outputs": []
    },
    {
      "cell_type": "code",
      "source": [],
      "metadata": {
        "id": "9r8kDKNmrN21"
      },
      "execution_count": null,
      "outputs": []
    },
    {
      "cell_type": "markdown",
      "source": [
        "# GO + SVM"
      ],
      "metadata": {
        "id": "Z2A-ORn1KSpc"
      }
    },
    {
      "cell_type": "code",
      "source": [
        "SVC_object_GO = GO_algo_object.fit(SVC(C = grid_search_SVC.best_params_['C'],\n",
        "                                          gamma = grid_search_SVC.best_params_['gamma'],\n",
        "                                          kernel = grid_search_SVC.best_params_['kernel']),X_train1, y_train1, X_test1, y_test1,verbose=True)\n",
        "\n",
        "#plot your results\n"
      ],
      "metadata": {
        "id": "fNcav2H5rN6C"
      },
      "execution_count": null,
      "outputs": []
    },
    {
      "cell_type": "code",
      "source": [
        "print(list(GO_algo_object.best_feature_list))"
      ],
      "metadata": {
        "id": "MCXawHGPrN85"
      },
      "execution_count": null,
      "outputs": []
    },
    {
      "cell_type": "code",
      "source": [
        "GO_algo_object.plot_history()"
      ],
      "metadata": {
        "id": "MWW2qKzJrOAB"
      },
      "execution_count": null,
      "outputs": []
    },
    {
      "cell_type": "code",
      "source": [
        "GO_df1_SVC= pd.DataFrame(data_rescaled_df, columns=['1', '3', '5', '7', '8', '9', '11', '12', '14', '15', '18', '20', '21', '25', '29', '30',\n",
        "                                                    '32', '33', '34', '35', '36', '37', '38', '39', '41', '46', '48', '50', '51', '54', '55', \n",
        "                                                    '56', '58', '62', '63', '67', '68', '69', '71', '74', '75', '76', '78', '79', '81', '83',\n",
        "                                                    '84', '85', '87', '91', '94', '95', '96']\n",
        " \n",
        " )\n",
        "GO_df1_SVC"
      ],
      "metadata": {
        "id": "8GoawIedrOC0"
      },
      "execution_count": null,
      "outputs": []
    },
    {
      "cell_type": "code",
      "source": [
        "from sklearn.model_selection import train_test_split\n",
        "X_train_SVC_GO, X_test_SVC_GO, y_train_SVC_GO,y_test_SVC_GO= train_test_split(GO_df1_SVC,train_labels_encoded, test_size=0.2, random_state=0)"
      ],
      "metadata": {
        "id": "a1Pi1mporOF9"
      },
      "execution_count": null,
      "outputs": []
    },
    {
      "cell_type": "code",
      "source": [
        "GO_SVC= SVC(C=100, gamma=0.001, random_state=0) \n",
        "GO_SVC.fit(X_train_SVC_GO, y_train_SVC_GO.ravel())\n",
        "GO_predictions_SVC = GO_SVC.predict(X_test_SVC_GO)\n",
        "print(classification_report(y_test_SVC_GO,GO_predictions_SVC))"
      ],
      "metadata": {
        "id": "PIB2PQTDrc0a"
      },
      "execution_count": null,
      "outputs": []
    },
    {
      "cell_type": "code",
      "source": [],
      "metadata": {
        "id": "0JF8KYH52S4C"
      },
      "execution_count": null,
      "outputs": []
    },
    {
      "cell_type": "markdown",
      "source": [
        "# GO + LGB"
      ],
      "metadata": {
        "id": "7To45MGQKXU7"
      }
    },
    {
      "cell_type": "code",
      "source": [
        "LGB_object_GO = GO_algo_object.fit(lgb.LGBMClassifier(bagging_fraction = grid_search_LGB.best_params_['bagging_fraction'],\n",
        "                                          bagging_frequency = grid_search_LGB.best_params_['bagging_frequency'],\n",
        "                                          feature_fraction = grid_search_LGB.best_params_['feature_fraction'],\n",
        "                                          max_depth = grid_search_LGB.best_params_['max_depth'],\n",
        "                                          min_data_in_leaf=grid_search_LGB.best_params_['min_data_in_leaf'],\n",
        "                                          num_leaves=grid_search_LGB.best_params_['num_leaves'],\n",
        "                                          random_state = 0),X_train1, y_train1, X_test1, y_test1,verbose=True)\n",
        "\n",
        "#plot your results\n"
      ],
      "metadata": {
        "id": "vNfdUxt42S7B"
      },
      "execution_count": null,
      "outputs": []
    },
    {
      "cell_type": "code",
      "source": [
        "print(list(GO_algo_object.best_feature_list))"
      ],
      "metadata": {
        "id": "KZRoTfXO2S-m"
      },
      "execution_count": null,
      "outputs": []
    },
    {
      "cell_type": "code",
      "source": [
        "GO_algo_object.plot_history()"
      ],
      "metadata": {
        "id": "idFN1MWL2TBr"
      },
      "execution_count": null,
      "outputs": []
    },
    {
      "cell_type": "code",
      "source": [
        "GO_df1_LGB= pd.DataFrame(data_rescaled_df, columns=['0', '2', '3', '4', '6', '7', '10', '12', '13', '15', '17', '19', '21', '22', '23', '24', '25', \n",
        "                                                    '27', '28', '30', '33', '36', '37', '49', '50', '51', '52', '53', '54', '56', '57', '59', '60',\n",
        "                                                    '63', '65', '67', '71', '74', '77', '79', '80', '81', '82', '85', '86', '88', '89', '91', '92', '95']\n",
        " \n",
        " )\n",
        "GO_df1_LGB"
      ],
      "metadata": {
        "id": "QYCFgdOU2TFU"
      },
      "execution_count": null,
      "outputs": []
    },
    {
      "cell_type": "code",
      "source": [
        "from sklearn.model_selection import train_test_split\n",
        "X_train_LGB_GO, X_test_LGB_GO, y_train_LGB_GO,y_test_LGB_GO= train_test_split(GO_df1_LGB,train_labels_encoded, test_size=0.2, random_state=0)"
      ],
      "metadata": {
        "id": "QEaLXJYr2yWR"
      },
      "execution_count": null,
      "outputs": []
    },
    {
      "cell_type": "code",
      "source": [
        "GO_LGB= lgb.LGBMClassifier(bagging_fraction=0.5, bagging_frequency=5, feature_fraction=0.5,\n",
        "               max_depth=10, min_data_in_leaf=110, num_leaves=1200,\n",
        "               random_state=0)  \n",
        "GO_LGB.fit(X_train_LGB_GO, y_train_LGB_GO.ravel())\n",
        "GO_predictions_LGB= GO_LGB.predict(X_test_LGB_GO)\n",
        "print(classification_report(y_test_LGB_GO,GO_predictions_LGB))"
      ],
      "metadata": {
        "id": "vaJXJ5p-2yZ6"
      },
      "execution_count": null,
      "outputs": []
    }
  ],
  "metadata": {
    "accelerator": "GPU",
    "colab": {
      "machine_shape": "hm",
      "provenance": [],
      "mount_file_id": "1W8RqqBbi7bqcm-Y-1VG6McWICnKcDwOd",
      "authorship_tag": "ABX9TyPM29x/xAvBg6gNbD2kvu0L"
    },
    "gpuClass": "standard",
    "kernelspec": {
      "display_name": "Python 3",
      "name": "python3"
    },
    "language_info": {
      "name": "python"
    }
  },
  "nbformat": 4,
  "nbformat_minor": 0
}